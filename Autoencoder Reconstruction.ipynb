{
  "nbformat": 4,
  "nbformat_minor": 0,
  "metadata": {
    "colab": {
      "provenance": [],
      "toc_visible": true,
      "collapsed_sections": [
        "xm6AjJMbGsWC",
        "Lqf0n8RZFuEw",
        "dY5TjGCVIxIE",
        "97yErgyKJBYm"
      ]
    },
    "kernelspec": {
      "name": "python3",
      "display_name": "Python 3"
    },
    "language_info": {
      "name": "python"
    }
  },
  "cells": [
    {
      "cell_type": "markdown",
      "source": [
        "#Libraries"
      ],
      "metadata": {
        "id": "xm6AjJMbGsWC"
      }
    },
    {
      "cell_type": "code",
      "source": [
        "import numpy as np\n",
        "import torch\n",
        "import torch.nn as nn\n",
        "import torch.nn.functional as F\n",
        "import copy\n",
        "import pandas as pd\n",
        "import torch.optim as optim\n",
        "import torchvision\n",
        "import torchvision.transforms as T\n",
        "import matplotlib.pyplot as plt\n",
        "import torchvision.transforms as transforms\n",
        "\n",
        "from sklearn.model_selection import train_test_split\n",
        "from sklearn.decomposition import PCA\n",
        "from torch.utils.data import DataLoader,TensorDataset,Subset\n",
        "from IPython import display\n",
        "from skimage.metrics import structural_similarity as ssim\n",
        "from skimage.metrics import peak_signal_noise_ratio as psnr\n",
        "display.set_matplotlib_formats('svg')"
      ],
      "metadata": {
        "colab": {
          "base_uri": "https://localhost:8080/"
        },
        "id": "2r1HSkd_Fod2",
        "outputId": "763649b5-3153-41fd-9f0d-6892282c125f"
      },
      "execution_count": null,
      "outputs": [
        {
          "output_type": "stream",
          "name": "stderr",
          "text": [
            "<ipython-input-1-871178ef10b7>:19: DeprecationWarning: `set_matplotlib_formats` is deprecated since IPython 7.23, directly use `matplotlib_inline.backend_inline.set_matplotlib_formats()`\n",
            "  display.set_matplotlib_formats('svg')\n"
          ]
        }
      ]
    },
    {
      "cell_type": "code",
      "source": [
        "device = torch.device('cuda:0' if torch.cuda.is_available() else 'cpu')\n",
        "print(device)"
      ],
      "metadata": {
        "colab": {
          "base_uri": "https://localhost:8080/"
        },
        "id": "oBAdSx5CFq0M",
        "outputId": "ecb6c863-758c-4cee-c3e1-7a7b98979463"
      },
      "execution_count": null,
      "outputs": [
        {
          "output_type": "stream",
          "name": "stdout",
          "text": [
            "cpu\n"
          ]
        }
      ]
    },
    {
      "cell_type": "markdown",
      "source": [
        "#Dataset Preparation"
      ],
      "metadata": {
        "id": "Lqf0n8RZFuEw"
      }
    },
    {
      "cell_type": "code",
      "execution_count": null,
      "metadata": {
        "colab": {
          "base_uri": "https://localhost:8080/"
        },
        "id": "Fb0JEXQCFmeR",
        "outputId": "1ec42064-4436-4395-e0a5-a822c47ebfdf"
      },
      "outputs": [
        {
          "output_type": "stream",
          "name": "stdout",
          "text": [
            "Files already downloaded and verified\n",
            "Files already downloaded and verified\n"
          ]
        }
      ],
      "source": [
        "# Define transformations for CIFAR-10\n",
        "transform_cifar = transforms.Compose([\n",
        "    transforms.ToTensor(),\n",
        "    transforms.Normalize((0.5, 0.5, 0.5), (0.5, 0.5, 0.5))\n",
        "])\n",
        "\n",
        "# Define transformations for MNIST\n",
        "transform_mnist = transforms.Compose([\n",
        "    transforms.Grayscale(num_output_channels=3),\n",
        "    transforms.Resize((32, 32)),\n",
        "    transforms.ToTensor(),\n",
        "    transforms.Normalize(mean=[0.485, 0.456, 0.406], std=[0.229, 0.224, 0.225])\n",
        "])\n",
        "\n",
        "# Prepare CIFAR-10 dataset\n",
        "trainset_cifar = torchvision.datasets.CIFAR10(\n",
        "    root='./data',\n",
        "    train=True,\n",
        "    download=True,\n",
        "    transform=transform_cifar\n",
        ")\n",
        "testset_cifar = torchvision.datasets.CIFAR10(\n",
        "    root='./data',\n",
        "    train=False,\n",
        "    download=True,\n",
        "    transform=transform_cifar\n",
        ")\n",
        "\n",
        "# Prepare MNIST dataset\n",
        "trainset_mnist = torchvision.datasets.MNIST(\n",
        "    root='./data',\n",
        "    train=True,\n",
        "    download=True,\n",
        "    transform=transform_mnist\n",
        ")\n",
        "testset_mnist = torchvision.datasets.MNIST(\n",
        "    root='./data',\n",
        "    train=False,\n",
        "    download=True,\n",
        "    transform=transform_mnist\n",
        ")\n"
      ]
    },
    {
      "cell_type": "markdown",
      "source": [
        "#Mean Image Computation"
      ],
      "metadata": {
        "id": "dY5TjGCVIxIE"
      }
    },
    {
      "cell_type": "code",
      "source": [
        "def compute_mean_images(dataset1, dataset2):\n",
        "    mean_images = []\n",
        "    for img1, img2 in zip(dataset1, dataset2):\n",
        "        mean_image = (img1[0] + img2[0]) / 2\n",
        "        mean_images.append(torch.tensor(mean_image))\n",
        "    return torch.stack(mean_images)"
      ],
      "metadata": {
        "id": "lx30DJq0eQwJ"
      },
      "execution_count": null,
      "outputs": []
    },
    {
      "cell_type": "code",
      "source": [
        "mean_images_stacked = compute_mean_images(trainset_mnist, trainset_cifar)"
      ],
      "metadata": {
        "colab": {
          "base_uri": "https://localhost:8080/"
        },
        "id": "GaAVzaxieiVL",
        "outputId": "38c0c33c-a298-499c-d073-843f17af0625"
      },
      "execution_count": null,
      "outputs": [
        {
          "output_type": "stream",
          "name": "stderr",
          "text": [
            "<ipython-input-4-0e8b0ac790d3>:5: UserWarning: To copy construct from a tensor, it is recommended to use sourceTensor.clone().detach() or sourceTensor.clone().detach().requires_grad_(True), rather than torch.tensor(sourceTensor).\n",
            "  mean_images.append(torch.tensor(mean_image))\n"
          ]
        }
      ]
    },
    {
      "cell_type": "code",
      "source": [
        "test_mean_images_stacked = compute_mean_images(testset_mnist, testset_cifar)"
      ],
      "metadata": {
        "colab": {
          "base_uri": "https://localhost:8080/"
        },
        "id": "rIs56Y78eiOA",
        "outputId": "69a76608-cc03-4e57-b4c6-b253ba1dc748"
      },
      "execution_count": null,
      "outputs": [
        {
          "output_type": "stream",
          "name": "stderr",
          "text": [
            "<ipython-input-4-0e8b0ac790d3>:5: UserWarning: To copy construct from a tensor, it is recommended to use sourceTensor.clone().detach() or sourceTensor.clone().detach().requires_grad_(True), rather than torch.tensor(sourceTensor).\n",
            "  mean_images.append(torch.tensor(mean_image))\n"
          ]
        }
      ]
    },
    {
      "cell_type": "markdown",
      "source": [
        "#Test & Train Dataset"
      ],
      "metadata": {
        "id": "97yErgyKJBYm"
      }
    },
    {
      "cell_type": "code",
      "source": [
        "trainset = mean_images_stacked.unsqueeze(0)\n",
        "testset = test_mean_images_stacked.unsqueeze(0)"
      ],
      "metadata": {
        "id": "7fPJBOSue9dB"
      },
      "execution_count": null,
      "outputs": []
    },
    {
      "cell_type": "markdown",
      "source": [
        "#Autoencoder Model Construction"
      ],
      "metadata": {
        "id": "ejJ1iOhdF2Id"
      }
    },
    {
      "cell_type": "code",
      "source": [
        "def create_autoencoder():\n",
        "    class AutoEncoderNet(nn.Module):\n",
        "        def __init__(self):\n",
        "            super(AutoEncoderNet, self).__init__()\n",
        "            self.enc = nn.Sequential(\n",
        "                nn.Conv2d(3, 16, 4, padding=1, stride=2),\n",
        "                nn.LeakyReLU(),\n",
        "                nn.Conv2d(16, 32, 4, padding=1, stride=2),\n",
        "                nn.LeakyReLU(),\n",
        "                nn.Conv2d(32, 64, 4, padding=1, stride=2),\n",
        "                nn.LeakyReLU()\n",
        "            )\n",
        "            self.dec = nn.Sequential(\n",
        "                nn.ConvTranspose2d(64, 32, 4, padding=1, stride=2),\n",
        "                nn.LeakyReLU(),\n",
        "                nn.ConvTranspose2d(32, 16, 4, padding=1, stride=2),\n",
        "                nn.LeakyReLU(),\n",
        "                nn.ConvTranspose2d(16, 3, 4, padding=1, stride=2)\n",
        "            )\n",
        "\n",
        "        def forward(self, x):\n",
        "            x = self.enc(x)\n",
        "            x = self.dec(x)\n",
        "            return x\n",
        "\n",
        "    net = AutoEncoderNet()\n",
        "    lossfun = nn.MSELoss()\n",
        "    optimizer = optim.Adam(net.parameters(), lr=0.001)\n",
        "    return net, lossfun, optimizer"
      ],
      "metadata": {
        "id": "xYlsVzjzF2xg"
      },
      "execution_count": null,
      "outputs": []
    },
    {
      "cell_type": "code",
      "source": [
        "def train_autoencoder(trainset, testset, net, lossfun, optimizer, num_epochs=50, batch_size=32):\n",
        "\n",
        "    trainloader = DataLoader(trainset, batch_size=batch_size, shuffle=True)\n",
        "    testloader = DataLoader(testset, batch_size=batch_size, shuffle=False)\n",
        "    train_losses = torch.zeros(num_epochs)\n",
        "    test_losses = torch.zeros(num_epochs)\n",
        "\n",
        "    for epoch in range(num_epochs):\n",
        "        net.train()\n",
        "        batch_losses = []\n",
        "\n",
        "        for data in trainloader:\n",
        "            X = data[0]\n",
        "            optimizer.zero_grad()\n",
        "            y_hat = net(X)\n",
        "            loss = lossfun(y_hat, X)\n",
        "            loss.backward()\n",
        "            optimizer.step()\n",
        "            batch_losses.append(loss.item())\n",
        "\n",
        "        train_losses[epoch] = np.mean(batch_losses)\n",
        "        print(\"_____________________________________\")\n",
        "        print(f'Epoch {epoch + 1}/{num_epochs}')\n",
        "        print(f'Training loss: {train_losses[epoch]:.4f}')\n",
        "\n",
        "        net.eval()\n",
        "        batch_losses = []\n",
        "        with torch.no_grad():\n",
        "            for data in testloader:\n",
        "                X = data[0]\n",
        "                y_hat = net(X)\n",
        "                loss = lossfun(y_hat, X)\n",
        "                batch_losses.append(loss.item())\n",
        "\n",
        "        test_losses[epoch] = np.mean(batch_losses)\n",
        "        print(f'Testing loss: {test_losses[epoch]:.4f}')\n",
        "        print()\n",
        "\n",
        "    return train_losses, test_losses, net"
      ],
      "metadata": {
        "id": "qO8mPh9HgTjn"
      },
      "execution_count": null,
      "outputs": []
    },
    {
      "cell_type": "markdown",
      "source": [
        "#Model Training"
      ],
      "metadata": {
        "id": "zPnhDTH3F5Qt"
      }
    },
    {
      "cell_type": "code",
      "source": [
        "net,lossfun,optimizer = create_autoencoder()"
      ],
      "metadata": {
        "id": "5_STxaThJq8F"
      },
      "execution_count": null,
      "outputs": []
    },
    {
      "cell_type": "code",
      "source": [
        "trainlosses,testlosses,net = train_autoencoder(trainset,testset,net,lossfun,optimizer)"
      ],
      "metadata": {
        "colab": {
          "base_uri": "https://localhost:8080/"
        },
        "id": "v8dQOYCVJdjp",
        "outputId": "c5c6b985-3fe8-4d30-f921-c8f924d9a377"
      },
      "execution_count": null,
      "outputs": [
        {
          "output_type": "stream",
          "name": "stdout",
          "text": [
            "_____________________________________\n",
            "Epoch 1/50\n",
            "Training loss: 0.9747\n",
            "Testing loss: 0.9674\n",
            "\n",
            "_____________________________________\n",
            "Epoch 2/50\n",
            "Training loss: 0.9709\n",
            "Testing loss: 0.9635\n",
            "\n",
            "_____________________________________\n",
            "Epoch 3/50\n",
            "Training loss: 0.9669\n",
            "Testing loss: 0.9589\n",
            "\n",
            "_____________________________________\n",
            "Epoch 4/50\n",
            "Training loss: 0.9622\n",
            "Testing loss: 0.9522\n",
            "\n",
            "_____________________________________\n",
            "Epoch 5/50\n",
            "Training loss: 0.9554\n",
            "Testing loss: 0.9409\n",
            "\n",
            "_____________________________________\n",
            "Epoch 6/50\n",
            "Training loss: 0.9440\n",
            "Testing loss: 0.9215\n",
            "\n",
            "_____________________________________\n",
            "Epoch 7/50\n",
            "Training loss: 0.9242\n",
            "Testing loss: 0.8913\n",
            "\n",
            "_____________________________________\n",
            "Epoch 8/50\n",
            "Training loss: 0.8933\n",
            "Testing loss: 0.8520\n",
            "\n",
            "_____________________________________\n",
            "Epoch 9/50\n",
            "Training loss: 0.8528\n",
            "Testing loss: 0.8244\n",
            "\n",
            "_____________________________________\n",
            "Epoch 10/50\n",
            "Training loss: 0.8236\n",
            "Testing loss: 0.8304\n",
            "\n",
            "_____________________________________\n",
            "Epoch 11/50\n",
            "Training loss: 0.8281\n",
            "Testing loss: 0.8003\n",
            "\n",
            "_____________________________________\n",
            "Epoch 12/50\n",
            "Training loss: 0.7979\n",
            "Testing loss: 0.7611\n",
            "\n",
            "_____________________________________\n",
            "Epoch 13/50\n",
            "Training loss: 0.7589\n",
            "Testing loss: 0.7364\n",
            "\n",
            "_____________________________________\n",
            "Epoch 14/50\n",
            "Training loss: 0.7344\n",
            "Testing loss: 0.7176\n",
            "\n",
            "_____________________________________\n",
            "Epoch 15/50\n",
            "Training loss: 0.7156\n",
            "Testing loss: 0.6936\n",
            "\n",
            "_____________________________________\n",
            "Epoch 16/50\n",
            "Training loss: 0.6914\n",
            "Testing loss: 0.6628\n",
            "\n",
            "_____________________________________\n",
            "Epoch 17/50\n",
            "Training loss: 0.6601\n",
            "Testing loss: 0.6316\n",
            "\n",
            "_____________________________________\n",
            "Epoch 18/50\n",
            "Training loss: 0.6283\n",
            "Testing loss: 0.6082\n",
            "\n",
            "_____________________________________\n",
            "Epoch 19/50\n",
            "Training loss: 0.6045\n",
            "Testing loss: 0.5847\n",
            "\n",
            "_____________________________________\n",
            "Epoch 20/50\n",
            "Training loss: 0.5810\n",
            "Testing loss: 0.5497\n",
            "\n",
            "_____________________________________\n",
            "Epoch 21/50\n",
            "Training loss: 0.5460\n",
            "Testing loss: 0.5148\n",
            "\n",
            "_____________________________________\n",
            "Epoch 22/50\n",
            "Training loss: 0.5112\n",
            "Testing loss: 0.4864\n",
            "\n",
            "_____________________________________\n",
            "Epoch 23/50\n",
            "Training loss: 0.4831\n",
            "Testing loss: 0.4583\n",
            "\n",
            "_____________________________________\n",
            "Epoch 24/50\n",
            "Training loss: 0.4552\n",
            "Testing loss: 0.4284\n",
            "\n",
            "_____________________________________\n",
            "Epoch 25/50\n",
            "Training loss: 0.4254\n",
            "Testing loss: 0.4055\n",
            "\n",
            "_____________________________________\n",
            "Epoch 26/50\n",
            "Training loss: 0.4024\n",
            "Testing loss: 0.3922\n",
            "\n",
            "_____________________________________\n",
            "Epoch 27/50\n",
            "Training loss: 0.3891\n",
            "Testing loss: 0.3775\n",
            "\n",
            "_____________________________________\n",
            "Epoch 28/50\n",
            "Training loss: 0.3745\n",
            "Testing loss: 0.3662\n",
            "\n",
            "_____________________________________\n",
            "Epoch 29/50\n",
            "Training loss: 0.3637\n",
            "Testing loss: 0.3607\n",
            "\n",
            "_____________________________________\n",
            "Epoch 30/50\n",
            "Training loss: 0.3585\n",
            "Testing loss: 0.3523\n",
            "\n",
            "_____________________________________\n",
            "Epoch 31/50\n",
            "Training loss: 0.3502\n",
            "Testing loss: 0.3430\n",
            "\n",
            "_____________________________________\n",
            "Epoch 32/50\n",
            "Training loss: 0.3408\n",
            "Testing loss: 0.3378\n",
            "\n",
            "_____________________________________\n",
            "Epoch 33/50\n",
            "Training loss: 0.3355\n",
            "Testing loss: 0.3322\n",
            "\n",
            "_____________________________________\n",
            "Epoch 34/50\n",
            "Training loss: 0.3300\n",
            "Testing loss: 0.3268\n",
            "\n",
            "_____________________________________\n",
            "Epoch 35/50\n",
            "Training loss: 0.3249\n",
            "Testing loss: 0.3250\n",
            "\n",
            "_____________________________________\n",
            "Epoch 36/50\n",
            "Training loss: 0.3232\n",
            "Testing loss: 0.3228\n",
            "\n",
            "_____________________________________\n",
            "Epoch 37/50\n",
            "Training loss: 0.3209\n",
            "Testing loss: 0.3193\n",
            "\n",
            "_____________________________________\n",
            "Epoch 38/50\n",
            "Training loss: 0.3173\n",
            "Testing loss: 0.3162\n",
            "\n",
            "_____________________________________\n",
            "Epoch 39/50\n",
            "Training loss: 0.3141\n",
            "Testing loss: 0.3118\n",
            "\n",
            "_____________________________________\n",
            "Epoch 40/50\n",
            "Training loss: 0.3097\n",
            "Testing loss: 0.3062\n",
            "\n",
            "_____________________________________\n",
            "Epoch 41/50\n",
            "Training loss: 0.3041\n",
            "Testing loss: 0.3014\n",
            "\n",
            "_____________________________________\n",
            "Epoch 42/50\n",
            "Training loss: 0.2995\n",
            "Testing loss: 0.2969\n",
            "\n",
            "_____________________________________\n",
            "Epoch 43/50\n",
            "Training loss: 0.2949\n",
            "Testing loss: 0.2922\n",
            "\n",
            "_____________________________________\n",
            "Epoch 44/50\n",
            "Training loss: 0.2903\n",
            "Testing loss: 0.2885\n",
            "\n",
            "_____________________________________\n",
            "Epoch 45/50\n",
            "Training loss: 0.2866\n",
            "Testing loss: 0.2846\n",
            "\n",
            "_____________________________________\n",
            "Epoch 46/50\n",
            "Training loss: 0.2828\n",
            "Testing loss: 0.2801\n",
            "\n",
            "_____________________________________\n",
            "Epoch 47/50\n",
            "Training loss: 0.2784\n",
            "Testing loss: 0.2756\n",
            "\n",
            "_____________________________________\n",
            "Epoch 48/50\n",
            "Training loss: 0.2740\n",
            "Testing loss: 0.2706\n",
            "\n",
            "_____________________________________\n",
            "Epoch 49/50\n",
            "Training loss: 0.2690\n",
            "Testing loss: 0.2656\n",
            "\n",
            "_____________________________________\n",
            "Epoch 50/50\n",
            "Training loss: 0.2641\n",
            "Testing loss: 0.2609\n",
            "\n"
          ]
        }
      ]
    },
    {
      "cell_type": "code",
      "source": [
        "plt.plot(trainlosses, 's-', label='Train')\n",
        "plt.plot(testlosses, 'o-', color=\"red\", label='Test')\n",
        "plt.xlabel('Epochs')\n",
        "plt.ylabel('Loss (MSE)')\n",
        "plt.title('Training and Testing Loss')\n",
        "plt.legend()\n",
        "plt.show()"
      ],
      "metadata": {
        "colab": {
          "base_uri": "https://localhost:8080/",
          "height": 456
        },
        "id": "i-byjxhOH0o3",
        "outputId": "ecc3560c-3a39-4b93-d98f-4a4803639fab"
      },
      "execution_count": null,
      "outputs": [
        {
          "output_type": "display_data",
          "data": {
            "text/plain": [
              "<Figure size 640x480 with 1 Axes>"
            ],
            "image/svg+xml": "<?xml version=\"1.0\" encoding=\"utf-8\" standalone=\"no\"?>\n<!DOCTYPE svg PUBLIC \"-//W3C//DTD SVG 1.1//EN\"\n  \"http://www.w3.org/Graphics/SVG/1.1/DTD/svg11.dtd\">\n<svg xmlns:xlink=\"http://www.w3.org/1999/xlink\" width=\"408.10125pt\" height=\"325.986375pt\" viewBox=\"0 0 408.10125 325.986375\" xmlns=\"http://www.w3.org/2000/svg\" version=\"1.1\">\n <metadata>\n  <rdf:RDF xmlns:dc=\"http://purl.org/dc/elements/1.1/\" xmlns:cc=\"http://creativecommons.org/ns#\" xmlns:rdf=\"http://www.w3.org/1999/02/22-rdf-syntax-ns#\">\n   <cc:Work>\n    <dc:type rdf:resource=\"http://purl.org/dc/dcmitype/StillImage\"/>\n    <dc:date>2024-05-29T19:55:23.496267</dc:date>\n    <dc:format>image/svg+xml</dc:format>\n    <dc:creator>\n     <cc:Agent>\n      <dc:title>Matplotlib v3.7.1, https://matplotlib.org/</dc:title>\n     </cc:Agent>\n    </dc:creator>\n   </cc:Work>\n  </rdf:RDF>\n </metadata>\n <defs>\n  <style type=\"text/css\">*{stroke-linejoin: round; stroke-linecap: butt}</style>\n </defs>\n <g id=\"figure_1\">\n  <g id=\"patch_1\">\n   <path d=\"M 0 325.986375 \nL 408.10125 325.986375 \nL 408.10125 0 \nL 0 0 \nz\n\" style=\"fill: #ffffff\"/>\n  </g>\n  <g id=\"axes_1\">\n   <g id=\"patch_2\">\n    <path d=\"M 43.78125 288.430125 \nL 400.90125 288.430125 \nL 400.90125 22.318125 \nL 43.78125 22.318125 \nz\n\" style=\"fill: #ffffff\"/>\n   </g>\n   <g id=\"matplotlib.axis_1\">\n    <g id=\"xtick_1\">\n     <g id=\"line2d_1\">\n      <defs>\n       <path id=\"m307f3323eb\" d=\"M 0 0 \nL 0 3.5 \n\" style=\"stroke: #000000; stroke-width: 0.8\"/>\n      </defs>\n      <g>\n       <use xlink:href=\"#m307f3323eb\" x=\"60.013977\" y=\"288.430125\" style=\"stroke: #000000; stroke-width: 0.8\"/>\n      </g>\n     </g>\n     <g id=\"text_1\">\n      <!-- 0 -->\n      <g transform=\"translate(56.832727 303.028562) scale(0.1 -0.1)\">\n       <defs>\n        <path id=\"DejaVuSans-30\" d=\"M 2034 4250 \nQ 1547 4250 1301 3770 \nQ 1056 3291 1056 2328 \nQ 1056 1369 1301 889 \nQ 1547 409 2034 409 \nQ 2525 409 2770 889 \nQ 3016 1369 3016 2328 \nQ 3016 3291 2770 3770 \nQ 2525 4250 2034 4250 \nz\nM 2034 4750 \nQ 2819 4750 3233 4129 \nQ 3647 3509 3647 2328 \nQ 3647 1150 3233 529 \nQ 2819 -91 2034 -91 \nQ 1250 -91 836 529 \nQ 422 1150 422 2328 \nQ 422 3509 836 4129 \nQ 1250 4750 2034 4750 \nz\n\" transform=\"scale(0.015625)\"/>\n       </defs>\n       <use xlink:href=\"#DejaVuSans-30\"/>\n      </g>\n     </g>\n    </g>\n    <g id=\"xtick_2\">\n     <g id=\"line2d_2\">\n      <g>\n       <use xlink:href=\"#m307f3323eb\" x=\"126.270007\" y=\"288.430125\" style=\"stroke: #000000; stroke-width: 0.8\"/>\n      </g>\n     </g>\n     <g id=\"text_2\">\n      <!-- 10 -->\n      <g transform=\"translate(119.907507 303.028562) scale(0.1 -0.1)\">\n       <defs>\n        <path id=\"DejaVuSans-31\" d=\"M 794 531 \nL 1825 531 \nL 1825 4091 \nL 703 3866 \nL 703 4441 \nL 1819 4666 \nL 2450 4666 \nL 2450 531 \nL 3481 531 \nL 3481 0 \nL 794 0 \nL 794 531 \nz\n\" transform=\"scale(0.015625)\"/>\n       </defs>\n       <use xlink:href=\"#DejaVuSans-31\"/>\n       <use xlink:href=\"#DejaVuSans-30\" x=\"63.623047\"/>\n      </g>\n     </g>\n    </g>\n    <g id=\"xtick_3\">\n     <g id=\"line2d_3\">\n      <g>\n       <use xlink:href=\"#m307f3323eb\" x=\"192.526037\" y=\"288.430125\" style=\"stroke: #000000; stroke-width: 0.8\"/>\n      </g>\n     </g>\n     <g id=\"text_3\">\n      <!-- 20 -->\n      <g transform=\"translate(186.163537 303.028562) scale(0.1 -0.1)\">\n       <defs>\n        <path id=\"DejaVuSans-32\" d=\"M 1228 531 \nL 3431 531 \nL 3431 0 \nL 469 0 \nL 469 531 \nQ 828 903 1448 1529 \nQ 2069 2156 2228 2338 \nQ 2531 2678 2651 2914 \nQ 2772 3150 2772 3378 \nQ 2772 3750 2511 3984 \nQ 2250 4219 1831 4219 \nQ 1534 4219 1204 4116 \nQ 875 4013 500 3803 \nL 500 4441 \nQ 881 4594 1212 4672 \nQ 1544 4750 1819 4750 \nQ 2544 4750 2975 4387 \nQ 3406 4025 3406 3419 \nQ 3406 3131 3298 2873 \nQ 3191 2616 2906 2266 \nQ 2828 2175 2409 1742 \nQ 1991 1309 1228 531 \nz\n\" transform=\"scale(0.015625)\"/>\n       </defs>\n       <use xlink:href=\"#DejaVuSans-32\"/>\n       <use xlink:href=\"#DejaVuSans-30\" x=\"63.623047\"/>\n      </g>\n     </g>\n    </g>\n    <g id=\"xtick_4\">\n     <g id=\"line2d_4\">\n      <g>\n       <use xlink:href=\"#m307f3323eb\" x=\"258.782066\" y=\"288.430125\" style=\"stroke: #000000; stroke-width: 0.8\"/>\n      </g>\n     </g>\n     <g id=\"text_4\">\n      <!-- 30 -->\n      <g transform=\"translate(252.419566 303.028562) scale(0.1 -0.1)\">\n       <defs>\n        <path id=\"DejaVuSans-33\" d=\"M 2597 2516 \nQ 3050 2419 3304 2112 \nQ 3559 1806 3559 1356 \nQ 3559 666 3084 287 \nQ 2609 -91 1734 -91 \nQ 1441 -91 1130 -33 \nQ 819 25 488 141 \nL 488 750 \nQ 750 597 1062 519 \nQ 1375 441 1716 441 \nQ 2309 441 2620 675 \nQ 2931 909 2931 1356 \nQ 2931 1769 2642 2001 \nQ 2353 2234 1838 2234 \nL 1294 2234 \nL 1294 2753 \nL 1863 2753 \nQ 2328 2753 2575 2939 \nQ 2822 3125 2822 3475 \nQ 2822 3834 2567 4026 \nQ 2313 4219 1838 4219 \nQ 1578 4219 1281 4162 \nQ 984 4106 628 3988 \nL 628 4550 \nQ 988 4650 1302 4700 \nQ 1616 4750 1894 4750 \nQ 2613 4750 3031 4423 \nQ 3450 4097 3450 3541 \nQ 3450 3153 3228 2886 \nQ 3006 2619 2597 2516 \nz\n\" transform=\"scale(0.015625)\"/>\n       </defs>\n       <use xlink:href=\"#DejaVuSans-33\"/>\n       <use xlink:href=\"#DejaVuSans-30\" x=\"63.623047\"/>\n      </g>\n     </g>\n    </g>\n    <g id=\"xtick_5\">\n     <g id=\"line2d_5\">\n      <g>\n       <use xlink:href=\"#m307f3323eb\" x=\"325.038096\" y=\"288.430125\" style=\"stroke: #000000; stroke-width: 0.8\"/>\n      </g>\n     </g>\n     <g id=\"text_5\">\n      <!-- 40 -->\n      <g transform=\"translate(318.675596 303.028562) scale(0.1 -0.1)\">\n       <defs>\n        <path id=\"DejaVuSans-34\" d=\"M 2419 4116 \nL 825 1625 \nL 2419 1625 \nL 2419 4116 \nz\nM 2253 4666 \nL 3047 4666 \nL 3047 1625 \nL 3713 1625 \nL 3713 1100 \nL 3047 1100 \nL 3047 0 \nL 2419 0 \nL 2419 1100 \nL 313 1100 \nL 313 1709 \nL 2253 4666 \nz\n\" transform=\"scale(0.015625)\"/>\n       </defs>\n       <use xlink:href=\"#DejaVuSans-34\"/>\n       <use xlink:href=\"#DejaVuSans-30\" x=\"63.623047\"/>\n      </g>\n     </g>\n    </g>\n    <g id=\"xtick_6\">\n     <g id=\"line2d_6\">\n      <g>\n       <use xlink:href=\"#m307f3323eb\" x=\"391.294126\" y=\"288.430125\" style=\"stroke: #000000; stroke-width: 0.8\"/>\n      </g>\n     </g>\n     <g id=\"text_6\">\n      <!-- 50 -->\n      <g transform=\"translate(384.931626 303.028562) scale(0.1 -0.1)\">\n       <defs>\n        <path id=\"DejaVuSans-35\" d=\"M 691 4666 \nL 3169 4666 \nL 3169 4134 \nL 1269 4134 \nL 1269 2991 \nQ 1406 3038 1543 3061 \nQ 1681 3084 1819 3084 \nQ 2600 3084 3056 2656 \nQ 3513 2228 3513 1497 \nQ 3513 744 3044 326 \nQ 2575 -91 1722 -91 \nQ 1428 -91 1123 -41 \nQ 819 9 494 109 \nL 494 744 \nQ 775 591 1075 516 \nQ 1375 441 1709 441 \nQ 2250 441 2565 725 \nQ 2881 1009 2881 1497 \nQ 2881 1984 2565 2268 \nQ 2250 2553 1709 2553 \nQ 1456 2553 1204 2497 \nQ 953 2441 691 2322 \nL 691 4666 \nz\n\" transform=\"scale(0.015625)\"/>\n       </defs>\n       <use xlink:href=\"#DejaVuSans-35\"/>\n       <use xlink:href=\"#DejaVuSans-30\" x=\"63.623047\"/>\n      </g>\n     </g>\n    </g>\n    <g id=\"text_7\">\n     <!-- Epochs -->\n     <g transform=\"translate(204.425625 316.706687) scale(0.1 -0.1)\">\n      <defs>\n       <path id=\"DejaVuSans-45\" d=\"M 628 4666 \nL 3578 4666 \nL 3578 4134 \nL 1259 4134 \nL 1259 2753 \nL 3481 2753 \nL 3481 2222 \nL 1259 2222 \nL 1259 531 \nL 3634 531 \nL 3634 0 \nL 628 0 \nL 628 4666 \nz\n\" transform=\"scale(0.015625)\"/>\n       <path id=\"DejaVuSans-70\" d=\"M 1159 525 \nL 1159 -1331 \nL 581 -1331 \nL 581 3500 \nL 1159 3500 \nL 1159 2969 \nQ 1341 3281 1617 3432 \nQ 1894 3584 2278 3584 \nQ 2916 3584 3314 3078 \nQ 3713 2572 3713 1747 \nQ 3713 922 3314 415 \nQ 2916 -91 2278 -91 \nQ 1894 -91 1617 61 \nQ 1341 213 1159 525 \nz\nM 3116 1747 \nQ 3116 2381 2855 2742 \nQ 2594 3103 2138 3103 \nQ 1681 3103 1420 2742 \nQ 1159 2381 1159 1747 \nQ 1159 1113 1420 752 \nQ 1681 391 2138 391 \nQ 2594 391 2855 752 \nQ 3116 1113 3116 1747 \nz\n\" transform=\"scale(0.015625)\"/>\n       <path id=\"DejaVuSans-6f\" d=\"M 1959 3097 \nQ 1497 3097 1228 2736 \nQ 959 2375 959 1747 \nQ 959 1119 1226 758 \nQ 1494 397 1959 397 \nQ 2419 397 2687 759 \nQ 2956 1122 2956 1747 \nQ 2956 2369 2687 2733 \nQ 2419 3097 1959 3097 \nz\nM 1959 3584 \nQ 2709 3584 3137 3096 \nQ 3566 2609 3566 1747 \nQ 3566 888 3137 398 \nQ 2709 -91 1959 -91 \nQ 1206 -91 779 398 \nQ 353 888 353 1747 \nQ 353 2609 779 3096 \nQ 1206 3584 1959 3584 \nz\n\" transform=\"scale(0.015625)\"/>\n       <path id=\"DejaVuSans-63\" d=\"M 3122 3366 \nL 3122 2828 \nQ 2878 2963 2633 3030 \nQ 2388 3097 2138 3097 \nQ 1578 3097 1268 2742 \nQ 959 2388 959 1747 \nQ 959 1106 1268 751 \nQ 1578 397 2138 397 \nQ 2388 397 2633 464 \nQ 2878 531 3122 666 \nL 3122 134 \nQ 2881 22 2623 -34 \nQ 2366 -91 2075 -91 \nQ 1284 -91 818 406 \nQ 353 903 353 1747 \nQ 353 2603 823 3093 \nQ 1294 3584 2113 3584 \nQ 2378 3584 2631 3529 \nQ 2884 3475 3122 3366 \nz\n\" transform=\"scale(0.015625)\"/>\n       <path id=\"DejaVuSans-68\" d=\"M 3513 2113 \nL 3513 0 \nL 2938 0 \nL 2938 2094 \nQ 2938 2591 2744 2837 \nQ 2550 3084 2163 3084 \nQ 1697 3084 1428 2787 \nQ 1159 2491 1159 1978 \nL 1159 0 \nL 581 0 \nL 581 4863 \nL 1159 4863 \nL 1159 2956 \nQ 1366 3272 1645 3428 \nQ 1925 3584 2291 3584 \nQ 2894 3584 3203 3211 \nQ 3513 2838 3513 2113 \nz\n\" transform=\"scale(0.015625)\"/>\n       <path id=\"DejaVuSans-73\" d=\"M 2834 3397 \nL 2834 2853 \nQ 2591 2978 2328 3040 \nQ 2066 3103 1784 3103 \nQ 1356 3103 1142 2972 \nQ 928 2841 928 2578 \nQ 928 2378 1081 2264 \nQ 1234 2150 1697 2047 \nL 1894 2003 \nQ 2506 1872 2764 1633 \nQ 3022 1394 3022 966 \nQ 3022 478 2636 193 \nQ 2250 -91 1575 -91 \nQ 1294 -91 989 -36 \nQ 684 19 347 128 \nL 347 722 \nQ 666 556 975 473 \nQ 1284 391 1588 391 \nQ 1994 391 2212 530 \nQ 2431 669 2431 922 \nQ 2431 1156 2273 1281 \nQ 2116 1406 1581 1522 \nL 1381 1569 \nQ 847 1681 609 1914 \nQ 372 2147 372 2553 \nQ 372 3047 722 3315 \nQ 1072 3584 1716 3584 \nQ 2034 3584 2315 3537 \nQ 2597 3491 2834 3397 \nz\n\" transform=\"scale(0.015625)\"/>\n      </defs>\n      <use xlink:href=\"#DejaVuSans-45\"/>\n      <use xlink:href=\"#DejaVuSans-70\" x=\"63.183594\"/>\n      <use xlink:href=\"#DejaVuSans-6f\" x=\"126.660156\"/>\n      <use xlink:href=\"#DejaVuSans-63\" x=\"187.841797\"/>\n      <use xlink:href=\"#DejaVuSans-68\" x=\"242.822266\"/>\n      <use xlink:href=\"#DejaVuSans-73\" x=\"306.201172\"/>\n     </g>\n    </g>\n   </g>\n   <g id=\"matplotlib.axis_2\">\n    <g id=\"ytick_1\">\n     <g id=\"line2d_7\">\n      <defs>\n       <path id=\"m6d3007ac67\" d=\"M 0 0 \nL -3.5 0 \n\" style=\"stroke: #000000; stroke-width: 0.8\"/>\n      </defs>\n      <g>\n       <use xlink:href=\"#m6d3007ac67\" x=\"43.78125\" y=\"263.097834\" style=\"stroke: #000000; stroke-width: 0.8\"/>\n      </g>\n     </g>\n     <g id=\"text_8\">\n      <!-- 0.3 -->\n      <g transform=\"translate(20.878125 266.897053) scale(0.1 -0.1)\">\n       <defs>\n        <path id=\"DejaVuSans-2e\" d=\"M 684 794 \nL 1344 794 \nL 1344 0 \nL 684 0 \nL 684 794 \nz\n\" transform=\"scale(0.015625)\"/>\n       </defs>\n       <use xlink:href=\"#DejaVuSans-30\"/>\n       <use xlink:href=\"#DejaVuSans-2e\" x=\"63.623047\"/>\n       <use xlink:href=\"#DejaVuSans-33\" x=\"95.410156\"/>\n      </g>\n     </g>\n    </g>\n    <g id=\"ytick_2\">\n     <g id=\"line2d_8\">\n      <g>\n       <use xlink:href=\"#m6d3007ac67\" x=\"43.78125\" y=\"229.206066\" style=\"stroke: #000000; stroke-width: 0.8\"/>\n      </g>\n     </g>\n     <g id=\"text_9\">\n      <!-- 0.4 -->\n      <g transform=\"translate(20.878125 233.005285) scale(0.1 -0.1)\">\n       <use xlink:href=\"#DejaVuSans-30\"/>\n       <use xlink:href=\"#DejaVuSans-2e\" x=\"63.623047\"/>\n       <use xlink:href=\"#DejaVuSans-34\" x=\"95.410156\"/>\n      </g>\n     </g>\n    </g>\n    <g id=\"ytick_3\">\n     <g id=\"line2d_9\">\n      <g>\n       <use xlink:href=\"#m6d3007ac67\" x=\"43.78125\" y=\"195.314298\" style=\"stroke: #000000; stroke-width: 0.8\"/>\n      </g>\n     </g>\n     <g id=\"text_10\">\n      <!-- 0.5 -->\n      <g transform=\"translate(20.878125 199.113517) scale(0.1 -0.1)\">\n       <use xlink:href=\"#DejaVuSans-30\"/>\n       <use xlink:href=\"#DejaVuSans-2e\" x=\"63.623047\"/>\n       <use xlink:href=\"#DejaVuSans-35\" x=\"95.410156\"/>\n      </g>\n     </g>\n    </g>\n    <g id=\"ytick_4\">\n     <g id=\"line2d_10\">\n      <g>\n       <use xlink:href=\"#m6d3007ac67\" x=\"43.78125\" y=\"161.42253\" style=\"stroke: #000000; stroke-width: 0.8\"/>\n      </g>\n     </g>\n     <g id=\"text_11\">\n      <!-- 0.6 -->\n      <g transform=\"translate(20.878125 165.221749) scale(0.1 -0.1)\">\n       <defs>\n        <path id=\"DejaVuSans-36\" d=\"M 2113 2584 \nQ 1688 2584 1439 2293 \nQ 1191 2003 1191 1497 \nQ 1191 994 1439 701 \nQ 1688 409 2113 409 \nQ 2538 409 2786 701 \nQ 3034 994 3034 1497 \nQ 3034 2003 2786 2293 \nQ 2538 2584 2113 2584 \nz\nM 3366 4563 \nL 3366 3988 \nQ 3128 4100 2886 4159 \nQ 2644 4219 2406 4219 \nQ 1781 4219 1451 3797 \nQ 1122 3375 1075 2522 \nQ 1259 2794 1537 2939 \nQ 1816 3084 2150 3084 \nQ 2853 3084 3261 2657 \nQ 3669 2231 3669 1497 \nQ 3669 778 3244 343 \nQ 2819 -91 2113 -91 \nQ 1303 -91 875 529 \nQ 447 1150 447 2328 \nQ 447 3434 972 4092 \nQ 1497 4750 2381 4750 \nQ 2619 4750 2861 4703 \nQ 3103 4656 3366 4563 \nz\n\" transform=\"scale(0.015625)\"/>\n       </defs>\n       <use xlink:href=\"#DejaVuSans-30\"/>\n       <use xlink:href=\"#DejaVuSans-2e\" x=\"63.623047\"/>\n       <use xlink:href=\"#DejaVuSans-36\" x=\"95.410156\"/>\n      </g>\n     </g>\n    </g>\n    <g id=\"ytick_5\">\n     <g id=\"line2d_11\">\n      <g>\n       <use xlink:href=\"#m6d3007ac67\" x=\"43.78125\" y=\"127.530762\" style=\"stroke: #000000; stroke-width: 0.8\"/>\n      </g>\n     </g>\n     <g id=\"text_12\">\n      <!-- 0.7 -->\n      <g transform=\"translate(20.878125 131.329981) scale(0.1 -0.1)\">\n       <defs>\n        <path id=\"DejaVuSans-37\" d=\"M 525 4666 \nL 3525 4666 \nL 3525 4397 \nL 1831 0 \nL 1172 0 \nL 2766 4134 \nL 525 4134 \nL 525 4666 \nz\n\" transform=\"scale(0.015625)\"/>\n       </defs>\n       <use xlink:href=\"#DejaVuSans-30\"/>\n       <use xlink:href=\"#DejaVuSans-2e\" x=\"63.623047\"/>\n       <use xlink:href=\"#DejaVuSans-37\" x=\"95.410156\"/>\n      </g>\n     </g>\n    </g>\n    <g id=\"ytick_6\">\n     <g id=\"line2d_12\">\n      <g>\n       <use xlink:href=\"#m6d3007ac67\" x=\"43.78125\" y=\"93.638994\" style=\"stroke: #000000; stroke-width: 0.8\"/>\n      </g>\n     </g>\n     <g id=\"text_13\">\n      <!-- 0.8 -->\n      <g transform=\"translate(20.878125 97.438213) scale(0.1 -0.1)\">\n       <defs>\n        <path id=\"DejaVuSans-38\" d=\"M 2034 2216 \nQ 1584 2216 1326 1975 \nQ 1069 1734 1069 1313 \nQ 1069 891 1326 650 \nQ 1584 409 2034 409 \nQ 2484 409 2743 651 \nQ 3003 894 3003 1313 \nQ 3003 1734 2745 1975 \nQ 2488 2216 2034 2216 \nz\nM 1403 2484 \nQ 997 2584 770 2862 \nQ 544 3141 544 3541 \nQ 544 4100 942 4425 \nQ 1341 4750 2034 4750 \nQ 2731 4750 3128 4425 \nQ 3525 4100 3525 3541 \nQ 3525 3141 3298 2862 \nQ 3072 2584 2669 2484 \nQ 3125 2378 3379 2068 \nQ 3634 1759 3634 1313 \nQ 3634 634 3220 271 \nQ 2806 -91 2034 -91 \nQ 1263 -91 848 271 \nQ 434 634 434 1313 \nQ 434 1759 690 2068 \nQ 947 2378 1403 2484 \nz\nM 1172 3481 \nQ 1172 3119 1398 2916 \nQ 1625 2713 2034 2713 \nQ 2441 2713 2670 2916 \nQ 2900 3119 2900 3481 \nQ 2900 3844 2670 4047 \nQ 2441 4250 2034 4250 \nQ 1625 4250 1398 4047 \nQ 1172 3844 1172 3481 \nz\n\" transform=\"scale(0.015625)\"/>\n       </defs>\n       <use xlink:href=\"#DejaVuSans-30\"/>\n       <use xlink:href=\"#DejaVuSans-2e\" x=\"63.623047\"/>\n       <use xlink:href=\"#DejaVuSans-38\" x=\"95.410156\"/>\n      </g>\n     </g>\n    </g>\n    <g id=\"ytick_7\">\n     <g id=\"line2d_13\">\n      <g>\n       <use xlink:href=\"#m6d3007ac67\" x=\"43.78125\" y=\"59.747226\" style=\"stroke: #000000; stroke-width: 0.8\"/>\n      </g>\n     </g>\n     <g id=\"text_14\">\n      <!-- 0.9 -->\n      <g transform=\"translate(20.878125 63.546445) scale(0.1 -0.1)\">\n       <defs>\n        <path id=\"DejaVuSans-39\" d=\"M 703 97 \nL 703 672 \nQ 941 559 1184 500 \nQ 1428 441 1663 441 \nQ 2288 441 2617 861 \nQ 2947 1281 2994 2138 \nQ 2813 1869 2534 1725 \nQ 2256 1581 1919 1581 \nQ 1219 1581 811 2004 \nQ 403 2428 403 3163 \nQ 403 3881 828 4315 \nQ 1253 4750 1959 4750 \nQ 2769 4750 3195 4129 \nQ 3622 3509 3622 2328 \nQ 3622 1225 3098 567 \nQ 2575 -91 1691 -91 \nQ 1453 -91 1209 -44 \nQ 966 3 703 97 \nz\nM 1959 2075 \nQ 2384 2075 2632 2365 \nQ 2881 2656 2881 3163 \nQ 2881 3666 2632 3958 \nQ 2384 4250 1959 4250 \nQ 1534 4250 1286 3958 \nQ 1038 3666 1038 3163 \nQ 1038 2656 1286 2365 \nQ 1534 2075 1959 2075 \nz\n\" transform=\"scale(0.015625)\"/>\n       </defs>\n       <use xlink:href=\"#DejaVuSans-30\"/>\n       <use xlink:href=\"#DejaVuSans-2e\" x=\"63.623047\"/>\n       <use xlink:href=\"#DejaVuSans-39\" x=\"95.410156\"/>\n      </g>\n     </g>\n    </g>\n    <g id=\"ytick_8\">\n     <g id=\"line2d_14\">\n      <g>\n       <use xlink:href=\"#m6d3007ac67\" x=\"43.78125\" y=\"25.855458\" style=\"stroke: #000000; stroke-width: 0.8\"/>\n      </g>\n     </g>\n     <g id=\"text_15\">\n      <!-- 1.0 -->\n      <g transform=\"translate(20.878125 29.654676) scale(0.1 -0.1)\">\n       <use xlink:href=\"#DejaVuSans-31\"/>\n       <use xlink:href=\"#DejaVuSans-2e\" x=\"63.623047\"/>\n       <use xlink:href=\"#DejaVuSans-30\" x=\"95.410156\"/>\n      </g>\n     </g>\n    </g>\n    <g id=\"text_16\">\n     <!-- Loss (MSE) -->\n     <g transform=\"translate(14.798438 182.479594) rotate(-90) scale(0.1 -0.1)\">\n      <defs>\n       <path id=\"DejaVuSans-4c\" d=\"M 628 4666 \nL 1259 4666 \nL 1259 531 \nL 3531 531 \nL 3531 0 \nL 628 0 \nL 628 4666 \nz\n\" transform=\"scale(0.015625)\"/>\n       <path id=\"DejaVuSans-20\" transform=\"scale(0.015625)\"/>\n       <path id=\"DejaVuSans-28\" d=\"M 1984 4856 \nQ 1566 4138 1362 3434 \nQ 1159 2731 1159 2009 \nQ 1159 1288 1364 580 \nQ 1569 -128 1984 -844 \nL 1484 -844 \nQ 1016 -109 783 600 \nQ 550 1309 550 2009 \nQ 550 2706 781 3412 \nQ 1013 4119 1484 4856 \nL 1984 4856 \nz\n\" transform=\"scale(0.015625)\"/>\n       <path id=\"DejaVuSans-4d\" d=\"M 628 4666 \nL 1569 4666 \nL 2759 1491 \nL 3956 4666 \nL 4897 4666 \nL 4897 0 \nL 4281 0 \nL 4281 4097 \nL 3078 897 \nL 2444 897 \nL 1241 4097 \nL 1241 0 \nL 628 0 \nL 628 4666 \nz\n\" transform=\"scale(0.015625)\"/>\n       <path id=\"DejaVuSans-53\" d=\"M 3425 4513 \nL 3425 3897 \nQ 3066 4069 2747 4153 \nQ 2428 4238 2131 4238 \nQ 1616 4238 1336 4038 \nQ 1056 3838 1056 3469 \nQ 1056 3159 1242 3001 \nQ 1428 2844 1947 2747 \nL 2328 2669 \nQ 3034 2534 3370 2195 \nQ 3706 1856 3706 1288 \nQ 3706 609 3251 259 \nQ 2797 -91 1919 -91 \nQ 1588 -91 1214 -16 \nQ 841 59 441 206 \nL 441 856 \nQ 825 641 1194 531 \nQ 1563 422 1919 422 \nQ 2459 422 2753 634 \nQ 3047 847 3047 1241 \nQ 3047 1584 2836 1778 \nQ 2625 1972 2144 2069 \nL 1759 2144 \nQ 1053 2284 737 2584 \nQ 422 2884 422 3419 \nQ 422 4038 858 4394 \nQ 1294 4750 2059 4750 \nQ 2388 4750 2728 4690 \nQ 3069 4631 3425 4513 \nz\n\" transform=\"scale(0.015625)\"/>\n       <path id=\"DejaVuSans-29\" d=\"M 513 4856 \nL 1013 4856 \nQ 1481 4119 1714 3412 \nQ 1947 2706 1947 2009 \nQ 1947 1309 1714 600 \nQ 1481 -109 1013 -844 \nL 513 -844 \nQ 928 -128 1133 580 \nQ 1338 1288 1338 2009 \nQ 1338 2731 1133 3434 \nQ 928 4138 513 4856 \nz\n\" transform=\"scale(0.015625)\"/>\n      </defs>\n      <use xlink:href=\"#DejaVuSans-4c\"/>\n      <use xlink:href=\"#DejaVuSans-6f\" x=\"53.962891\"/>\n      <use xlink:href=\"#DejaVuSans-73\" x=\"115.144531\"/>\n      <use xlink:href=\"#DejaVuSans-73\" x=\"167.244141\"/>\n      <use xlink:href=\"#DejaVuSans-20\" x=\"219.34375\"/>\n      <use xlink:href=\"#DejaVuSans-28\" x=\"251.130859\"/>\n      <use xlink:href=\"#DejaVuSans-4d\" x=\"290.144531\"/>\n      <use xlink:href=\"#DejaVuSans-53\" x=\"376.423828\"/>\n      <use xlink:href=\"#DejaVuSans-45\" x=\"439.900391\"/>\n      <use xlink:href=\"#DejaVuSans-29\" x=\"503.083984\"/>\n     </g>\n    </g>\n   </g>\n   <g id=\"line2d_15\">\n    <path d=\"M 60.013977 34.414125 \nL 66.63958 35.727841 \nL 73.265183 37.088383 \nL 79.890786 38.665622 \nL 86.516389 40.96321 \nL 93.141992 44.850603 \nL 99.767595 51.541318 \nL 106.393198 62.020016 \nL 113.018801 75.728501 \nL 119.644404 85.6527 \nL 126.270007 84.100429 \nL 132.89561 94.365966 \nL 139.521213 107.58211 \nL 146.146816 115.865962 \nL 152.772419 122.231016 \nL 159.398022 130.445457 \nL 166.023625 141.055946 \nL 172.649228 151.8296 \nL 179.274831 159.892574 \nL 185.900434 167.876116 \nL 192.526037 179.715942 \nL 199.15164 191.514336 \nL 205.777243 201.025786 \nL 212.402846 210.509359 \nL 219.028449 220.612762 \nL 225.654051 228.39793 \nL 232.279654 232.906091 \nL 238.905257 237.860828 \nL 245.53086 241.514968 \nL 252.156463 243.262583 \nL 258.782066 246.072935 \nL 265.407669 249.269704 \nL 272.033272 251.072871 \nL 278.658875 252.923703 \nL 285.284478 254.668045 \nL 291.910081 255.231645 \nL 298.535684 256.001265 \nL 305.161287 257.228026 \nL 311.78689 258.312368 \nL 318.412493 259.807601 \nL 325.038096 261.691482 \nL 331.663699 263.280437 \nL 338.289302 264.816072 \nL 344.914905 266.384715 \nL 351.540508 267.640919 \nL 358.166111 268.92408 \nL 364.791714 270.404899 \nL 371.417317 271.917818 \nL 378.04292 273.587881 \nL 384.668523 275.267913 \n\" clip-path=\"url(#p91c56b96b1)\" style=\"fill: none; stroke: #1f77b4; stroke-width: 1.5; stroke-linecap: square\"/>\n    <defs>\n     <path id=\"mf53e2bfcbd\" d=\"M -3 3 \nL 3 3 \nL 3 -3 \nL -3 -3 \nz\n\" style=\"stroke: #1f77b4; stroke-linejoin: miter\"/>\n    </defs>\n    <g clip-path=\"url(#p91c56b96b1)\">\n     <use xlink:href=\"#mf53e2bfcbd\" x=\"60.013977\" y=\"34.414125\" style=\"fill: #1f77b4; stroke: #1f77b4; stroke-linejoin: miter\"/>\n     <use xlink:href=\"#mf53e2bfcbd\" x=\"66.63958\" y=\"35.727841\" style=\"fill: #1f77b4; stroke: #1f77b4; stroke-linejoin: miter\"/>\n     <use xlink:href=\"#mf53e2bfcbd\" x=\"73.265183\" y=\"37.088383\" style=\"fill: #1f77b4; stroke: #1f77b4; stroke-linejoin: miter\"/>\n     <use xlink:href=\"#mf53e2bfcbd\" x=\"79.890786\" y=\"38.665622\" style=\"fill: #1f77b4; stroke: #1f77b4; stroke-linejoin: miter\"/>\n     <use xlink:href=\"#mf53e2bfcbd\" x=\"86.516389\" y=\"40.96321\" style=\"fill: #1f77b4; stroke: #1f77b4; stroke-linejoin: miter\"/>\n     <use xlink:href=\"#mf53e2bfcbd\" x=\"93.141992\" y=\"44.850603\" style=\"fill: #1f77b4; stroke: #1f77b4; stroke-linejoin: miter\"/>\n     <use xlink:href=\"#mf53e2bfcbd\" x=\"99.767595\" y=\"51.541318\" style=\"fill: #1f77b4; stroke: #1f77b4; stroke-linejoin: miter\"/>\n     <use xlink:href=\"#mf53e2bfcbd\" x=\"106.393198\" y=\"62.020016\" style=\"fill: #1f77b4; stroke: #1f77b4; stroke-linejoin: miter\"/>\n     <use xlink:href=\"#mf53e2bfcbd\" x=\"113.018801\" y=\"75.728501\" style=\"fill: #1f77b4; stroke: #1f77b4; stroke-linejoin: miter\"/>\n     <use xlink:href=\"#mf53e2bfcbd\" x=\"119.644404\" y=\"85.6527\" style=\"fill: #1f77b4; stroke: #1f77b4; stroke-linejoin: miter\"/>\n     <use xlink:href=\"#mf53e2bfcbd\" x=\"126.270007\" y=\"84.100429\" style=\"fill: #1f77b4; stroke: #1f77b4; stroke-linejoin: miter\"/>\n     <use xlink:href=\"#mf53e2bfcbd\" x=\"132.89561\" y=\"94.365966\" style=\"fill: #1f77b4; stroke: #1f77b4; stroke-linejoin: miter\"/>\n     <use xlink:href=\"#mf53e2bfcbd\" x=\"139.521213\" y=\"107.58211\" style=\"fill: #1f77b4; stroke: #1f77b4; stroke-linejoin: miter\"/>\n     <use xlink:href=\"#mf53e2bfcbd\" x=\"146.146816\" y=\"115.865962\" style=\"fill: #1f77b4; stroke: #1f77b4; stroke-linejoin: miter\"/>\n     <use xlink:href=\"#mf53e2bfcbd\" x=\"152.772419\" y=\"122.231016\" style=\"fill: #1f77b4; stroke: #1f77b4; stroke-linejoin: miter\"/>\n     <use xlink:href=\"#mf53e2bfcbd\" x=\"159.398022\" y=\"130.445457\" style=\"fill: #1f77b4; stroke: #1f77b4; stroke-linejoin: miter\"/>\n     <use xlink:href=\"#mf53e2bfcbd\" x=\"166.023625\" y=\"141.055946\" style=\"fill: #1f77b4; stroke: #1f77b4; stroke-linejoin: miter\"/>\n     <use xlink:href=\"#mf53e2bfcbd\" x=\"172.649228\" y=\"151.8296\" style=\"fill: #1f77b4; stroke: #1f77b4; stroke-linejoin: miter\"/>\n     <use xlink:href=\"#mf53e2bfcbd\" x=\"179.274831\" y=\"159.892574\" style=\"fill: #1f77b4; stroke: #1f77b4; stroke-linejoin: miter\"/>\n     <use xlink:href=\"#mf53e2bfcbd\" x=\"185.900434\" y=\"167.876116\" style=\"fill: #1f77b4; stroke: #1f77b4; stroke-linejoin: miter\"/>\n     <use xlink:href=\"#mf53e2bfcbd\" x=\"192.526037\" y=\"179.715942\" style=\"fill: #1f77b4; stroke: #1f77b4; stroke-linejoin: miter\"/>\n     <use xlink:href=\"#mf53e2bfcbd\" x=\"199.15164\" y=\"191.514336\" style=\"fill: #1f77b4; stroke: #1f77b4; stroke-linejoin: miter\"/>\n     <use xlink:href=\"#mf53e2bfcbd\" x=\"205.777243\" y=\"201.025786\" style=\"fill: #1f77b4; stroke: #1f77b4; stroke-linejoin: miter\"/>\n     <use xlink:href=\"#mf53e2bfcbd\" x=\"212.402846\" y=\"210.509359\" style=\"fill: #1f77b4; stroke: #1f77b4; stroke-linejoin: miter\"/>\n     <use xlink:href=\"#mf53e2bfcbd\" x=\"219.028449\" y=\"220.612762\" style=\"fill: #1f77b4; stroke: #1f77b4; stroke-linejoin: miter\"/>\n     <use xlink:href=\"#mf53e2bfcbd\" x=\"225.654051\" y=\"228.39793\" style=\"fill: #1f77b4; stroke: #1f77b4; stroke-linejoin: miter\"/>\n     <use xlink:href=\"#mf53e2bfcbd\" x=\"232.279654\" y=\"232.906091\" style=\"fill: #1f77b4; stroke: #1f77b4; stroke-linejoin: miter\"/>\n     <use xlink:href=\"#mf53e2bfcbd\" x=\"238.905257\" y=\"237.860828\" style=\"fill: #1f77b4; stroke: #1f77b4; stroke-linejoin: miter\"/>\n     <use xlink:href=\"#mf53e2bfcbd\" x=\"245.53086\" y=\"241.514968\" style=\"fill: #1f77b4; stroke: #1f77b4; stroke-linejoin: miter\"/>\n     <use xlink:href=\"#mf53e2bfcbd\" x=\"252.156463\" y=\"243.262583\" style=\"fill: #1f77b4; stroke: #1f77b4; stroke-linejoin: miter\"/>\n     <use xlink:href=\"#mf53e2bfcbd\" x=\"258.782066\" y=\"246.072935\" style=\"fill: #1f77b4; stroke: #1f77b4; stroke-linejoin: miter\"/>\n     <use xlink:href=\"#mf53e2bfcbd\" x=\"265.407669\" y=\"249.269704\" style=\"fill: #1f77b4; stroke: #1f77b4; stroke-linejoin: miter\"/>\n     <use xlink:href=\"#mf53e2bfcbd\" x=\"272.033272\" y=\"251.072871\" style=\"fill: #1f77b4; stroke: #1f77b4; stroke-linejoin: miter\"/>\n     <use xlink:href=\"#mf53e2bfcbd\" x=\"278.658875\" y=\"252.923703\" style=\"fill: #1f77b4; stroke: #1f77b4; stroke-linejoin: miter\"/>\n     <use xlink:href=\"#mf53e2bfcbd\" x=\"285.284478\" y=\"254.668045\" style=\"fill: #1f77b4; stroke: #1f77b4; stroke-linejoin: miter\"/>\n     <use xlink:href=\"#mf53e2bfcbd\" x=\"291.910081\" y=\"255.231645\" style=\"fill: #1f77b4; stroke: #1f77b4; stroke-linejoin: miter\"/>\n     <use xlink:href=\"#mf53e2bfcbd\" x=\"298.535684\" y=\"256.001265\" style=\"fill: #1f77b4; stroke: #1f77b4; stroke-linejoin: miter\"/>\n     <use xlink:href=\"#mf53e2bfcbd\" x=\"305.161287\" y=\"257.228026\" style=\"fill: #1f77b4; stroke: #1f77b4; stroke-linejoin: miter\"/>\n     <use xlink:href=\"#mf53e2bfcbd\" x=\"311.78689\" y=\"258.312368\" style=\"fill: #1f77b4; stroke: #1f77b4; stroke-linejoin: miter\"/>\n     <use xlink:href=\"#mf53e2bfcbd\" x=\"318.412493\" y=\"259.807601\" style=\"fill: #1f77b4; stroke: #1f77b4; stroke-linejoin: miter\"/>\n     <use xlink:href=\"#mf53e2bfcbd\" x=\"325.038096\" y=\"261.691482\" style=\"fill: #1f77b4; stroke: #1f77b4; stroke-linejoin: miter\"/>\n     <use xlink:href=\"#mf53e2bfcbd\" x=\"331.663699\" y=\"263.280437\" style=\"fill: #1f77b4; stroke: #1f77b4; stroke-linejoin: miter\"/>\n     <use xlink:href=\"#mf53e2bfcbd\" x=\"338.289302\" y=\"264.816072\" style=\"fill: #1f77b4; stroke: #1f77b4; stroke-linejoin: miter\"/>\n     <use xlink:href=\"#mf53e2bfcbd\" x=\"344.914905\" y=\"266.384715\" style=\"fill: #1f77b4; stroke: #1f77b4; stroke-linejoin: miter\"/>\n     <use xlink:href=\"#mf53e2bfcbd\" x=\"351.540508\" y=\"267.640919\" style=\"fill: #1f77b4; stroke: #1f77b4; stroke-linejoin: miter\"/>\n     <use xlink:href=\"#mf53e2bfcbd\" x=\"358.166111\" y=\"268.92408\" style=\"fill: #1f77b4; stroke: #1f77b4; stroke-linejoin: miter\"/>\n     <use xlink:href=\"#mf53e2bfcbd\" x=\"364.791714\" y=\"270.404899\" style=\"fill: #1f77b4; stroke: #1f77b4; stroke-linejoin: miter\"/>\n     <use xlink:href=\"#mf53e2bfcbd\" x=\"371.417317\" y=\"271.917818\" style=\"fill: #1f77b4; stroke: #1f77b4; stroke-linejoin: miter\"/>\n     <use xlink:href=\"#mf53e2bfcbd\" x=\"378.04292\" y=\"273.587881\" style=\"fill: #1f77b4; stroke: #1f77b4; stroke-linejoin: miter\"/>\n     <use xlink:href=\"#mf53e2bfcbd\" x=\"384.668523\" y=\"275.267913\" style=\"fill: #1f77b4; stroke: #1f77b4; stroke-linejoin: miter\"/>\n    </g>\n   </g>\n   <g id=\"line2d_16\">\n    <path d=\"M 60.013977 36.891422 \nL 66.63958 38.237723 \nL 73.265183 39.79672 \nL 79.890786 42.062391 \nL 86.516389 45.885928 \nL 93.141992 52.45184 \nL 99.767595 62.703519 \nL 106.393198 76.025638 \nL 113.018801 85.361481 \nL 119.644404 83.338304 \nL 126.270007 93.529258 \nL 132.89561 106.809945 \nL 139.521213 115.188378 \nL 146.146816 121.578865 \nL 152.772419 129.708219 \nL 159.398022 140.142313 \nL 166.023625 150.710481 \nL 172.649228 158.638108 \nL 179.274831 166.594197 \nL 185.900434 178.455254 \nL 192.526037 190.314816 \nL 199.15164 199.91303 \nL 205.777243 209.455066 \nL 212.402846 219.567952 \nL 219.028449 227.340243 \nL 225.654051 231.845515 \nL 232.279654 236.848602 \nL 238.905257 240.647373 \nL 245.53086 242.541597 \nL 252.156463 245.381473 \nL 258.782066 248.526587 \nL 265.407669 250.300706 \nL 272.033272 252.194071 \nL 278.658875 254.012945 \nL 285.284478 254.620482 \nL 291.910081 255.378022 \nL 298.535684 256.562996 \nL 305.161287 257.615512 \nL 311.78689 259.102614 \nL 318.412493 260.996989 \nL 325.038096 262.608035 \nL 331.663699 264.161719 \nL 338.289302 265.740281 \nL 344.914905 267.011181 \nL 351.540508 268.31823 \nL 358.166111 269.828169 \nL 364.791714 271.364723 \nL 371.417317 273.047452 \nL 378.04292 274.740402 \nL 384.668523 276.334125 \n\" clip-path=\"url(#p91c56b96b1)\" style=\"fill: none; stroke: #ff0000; stroke-width: 1.5; stroke-linecap: square\"/>\n    <defs>\n     <path id=\"m5aaa068879\" d=\"M 0 3 \nC 0.795609 3 1.55874 2.683901 2.12132 2.12132 \nC 2.683901 1.55874 3 0.795609 3 0 \nC 3 -0.795609 2.683901 -1.55874 2.12132 -2.12132 \nC 1.55874 -2.683901 0.795609 -3 0 -3 \nC -0.795609 -3 -1.55874 -2.683901 -2.12132 -2.12132 \nC -2.683901 -1.55874 -3 -0.795609 -3 0 \nC -3 0.795609 -2.683901 1.55874 -2.12132 2.12132 \nC -1.55874 2.683901 -0.795609 3 0 3 \nz\n\" style=\"stroke: #ff0000\"/>\n    </defs>\n    <g clip-path=\"url(#p91c56b96b1)\">\n     <use xlink:href=\"#m5aaa068879\" x=\"60.013977\" y=\"36.891422\" style=\"fill: #ff0000; stroke: #ff0000\"/>\n     <use xlink:href=\"#m5aaa068879\" x=\"66.63958\" y=\"38.237723\" style=\"fill: #ff0000; stroke: #ff0000\"/>\n     <use xlink:href=\"#m5aaa068879\" x=\"73.265183\" y=\"39.79672\" style=\"fill: #ff0000; stroke: #ff0000\"/>\n     <use xlink:href=\"#m5aaa068879\" x=\"79.890786\" y=\"42.062391\" style=\"fill: #ff0000; stroke: #ff0000\"/>\n     <use xlink:href=\"#m5aaa068879\" x=\"86.516389\" y=\"45.885928\" style=\"fill: #ff0000; stroke: #ff0000\"/>\n     <use xlink:href=\"#m5aaa068879\" x=\"93.141992\" y=\"52.45184\" style=\"fill: #ff0000; stroke: #ff0000\"/>\n     <use xlink:href=\"#m5aaa068879\" x=\"99.767595\" y=\"62.703519\" style=\"fill: #ff0000; stroke: #ff0000\"/>\n     <use xlink:href=\"#m5aaa068879\" x=\"106.393198\" y=\"76.025638\" style=\"fill: #ff0000; stroke: #ff0000\"/>\n     <use xlink:href=\"#m5aaa068879\" x=\"113.018801\" y=\"85.361481\" style=\"fill: #ff0000; stroke: #ff0000\"/>\n     <use xlink:href=\"#m5aaa068879\" x=\"119.644404\" y=\"83.338304\" style=\"fill: #ff0000; stroke: #ff0000\"/>\n     <use xlink:href=\"#m5aaa068879\" x=\"126.270007\" y=\"93.529258\" style=\"fill: #ff0000; stroke: #ff0000\"/>\n     <use xlink:href=\"#m5aaa068879\" x=\"132.89561\" y=\"106.809945\" style=\"fill: #ff0000; stroke: #ff0000\"/>\n     <use xlink:href=\"#m5aaa068879\" x=\"139.521213\" y=\"115.188378\" style=\"fill: #ff0000; stroke: #ff0000\"/>\n     <use xlink:href=\"#m5aaa068879\" x=\"146.146816\" y=\"121.578865\" style=\"fill: #ff0000; stroke: #ff0000\"/>\n     <use xlink:href=\"#m5aaa068879\" x=\"152.772419\" y=\"129.708219\" style=\"fill: #ff0000; stroke: #ff0000\"/>\n     <use xlink:href=\"#m5aaa068879\" x=\"159.398022\" y=\"140.142313\" style=\"fill: #ff0000; stroke: #ff0000\"/>\n     <use xlink:href=\"#m5aaa068879\" x=\"166.023625\" y=\"150.710481\" style=\"fill: #ff0000; stroke: #ff0000\"/>\n     <use xlink:href=\"#m5aaa068879\" x=\"172.649228\" y=\"158.638108\" style=\"fill: #ff0000; stroke: #ff0000\"/>\n     <use xlink:href=\"#m5aaa068879\" x=\"179.274831\" y=\"166.594197\" style=\"fill: #ff0000; stroke: #ff0000\"/>\n     <use xlink:href=\"#m5aaa068879\" x=\"185.900434\" y=\"178.455254\" style=\"fill: #ff0000; stroke: #ff0000\"/>\n     <use xlink:href=\"#m5aaa068879\" x=\"192.526037\" y=\"190.314816\" style=\"fill: #ff0000; stroke: #ff0000\"/>\n     <use xlink:href=\"#m5aaa068879\" x=\"199.15164\" y=\"199.91303\" style=\"fill: #ff0000; stroke: #ff0000\"/>\n     <use xlink:href=\"#m5aaa068879\" x=\"205.777243\" y=\"209.455066\" style=\"fill: #ff0000; stroke: #ff0000\"/>\n     <use xlink:href=\"#m5aaa068879\" x=\"212.402846\" y=\"219.567952\" style=\"fill: #ff0000; stroke: #ff0000\"/>\n     <use xlink:href=\"#m5aaa068879\" x=\"219.028449\" y=\"227.340243\" style=\"fill: #ff0000; stroke: #ff0000\"/>\n     <use xlink:href=\"#m5aaa068879\" x=\"225.654051\" y=\"231.845515\" style=\"fill: #ff0000; stroke: #ff0000\"/>\n     <use xlink:href=\"#m5aaa068879\" x=\"232.279654\" y=\"236.848602\" style=\"fill: #ff0000; stroke: #ff0000\"/>\n     <use xlink:href=\"#m5aaa068879\" x=\"238.905257\" y=\"240.647373\" style=\"fill: #ff0000; stroke: #ff0000\"/>\n     <use xlink:href=\"#m5aaa068879\" x=\"245.53086\" y=\"242.541597\" style=\"fill: #ff0000; stroke: #ff0000\"/>\n     <use xlink:href=\"#m5aaa068879\" x=\"252.156463\" y=\"245.381473\" style=\"fill: #ff0000; stroke: #ff0000\"/>\n     <use xlink:href=\"#m5aaa068879\" x=\"258.782066\" y=\"248.526587\" style=\"fill: #ff0000; stroke: #ff0000\"/>\n     <use xlink:href=\"#m5aaa068879\" x=\"265.407669\" y=\"250.300706\" style=\"fill: #ff0000; stroke: #ff0000\"/>\n     <use xlink:href=\"#m5aaa068879\" x=\"272.033272\" y=\"252.194071\" style=\"fill: #ff0000; stroke: #ff0000\"/>\n     <use xlink:href=\"#m5aaa068879\" x=\"278.658875\" y=\"254.012945\" style=\"fill: #ff0000; stroke: #ff0000\"/>\n     <use xlink:href=\"#m5aaa068879\" x=\"285.284478\" y=\"254.620482\" style=\"fill: #ff0000; stroke: #ff0000\"/>\n     <use xlink:href=\"#m5aaa068879\" x=\"291.910081\" y=\"255.378022\" style=\"fill: #ff0000; stroke: #ff0000\"/>\n     <use xlink:href=\"#m5aaa068879\" x=\"298.535684\" y=\"256.562996\" style=\"fill: #ff0000; stroke: #ff0000\"/>\n     <use xlink:href=\"#m5aaa068879\" x=\"305.161287\" y=\"257.615512\" style=\"fill: #ff0000; stroke: #ff0000\"/>\n     <use xlink:href=\"#m5aaa068879\" x=\"311.78689\" y=\"259.102614\" style=\"fill: #ff0000; stroke: #ff0000\"/>\n     <use xlink:href=\"#m5aaa068879\" x=\"318.412493\" y=\"260.996989\" style=\"fill: #ff0000; stroke: #ff0000\"/>\n     <use xlink:href=\"#m5aaa068879\" x=\"325.038096\" y=\"262.608035\" style=\"fill: #ff0000; stroke: #ff0000\"/>\n     <use xlink:href=\"#m5aaa068879\" x=\"331.663699\" y=\"264.161719\" style=\"fill: #ff0000; stroke: #ff0000\"/>\n     <use xlink:href=\"#m5aaa068879\" x=\"338.289302\" y=\"265.740281\" style=\"fill: #ff0000; stroke: #ff0000\"/>\n     <use xlink:href=\"#m5aaa068879\" x=\"344.914905\" y=\"267.011181\" style=\"fill: #ff0000; stroke: #ff0000\"/>\n     <use xlink:href=\"#m5aaa068879\" x=\"351.540508\" y=\"268.31823\" style=\"fill: #ff0000; stroke: #ff0000\"/>\n     <use xlink:href=\"#m5aaa068879\" x=\"358.166111\" y=\"269.828169\" style=\"fill: #ff0000; stroke: #ff0000\"/>\n     <use xlink:href=\"#m5aaa068879\" x=\"364.791714\" y=\"271.364723\" style=\"fill: #ff0000; stroke: #ff0000\"/>\n     <use xlink:href=\"#m5aaa068879\" x=\"371.417317\" y=\"273.047452\" style=\"fill: #ff0000; stroke: #ff0000\"/>\n     <use xlink:href=\"#m5aaa068879\" x=\"378.04292\" y=\"274.740402\" style=\"fill: #ff0000; stroke: #ff0000\"/>\n     <use xlink:href=\"#m5aaa068879\" x=\"384.668523\" y=\"276.334125\" style=\"fill: #ff0000; stroke: #ff0000\"/>\n    </g>\n   </g>\n   <g id=\"patch_3\">\n    <path d=\"M 43.78125 288.430125 \nL 43.78125 22.318125 \n\" style=\"fill: none; stroke: #000000; stroke-width: 0.8; stroke-linejoin: miter; stroke-linecap: square\"/>\n   </g>\n   <g id=\"patch_4\">\n    <path d=\"M 400.90125 288.430125 \nL 400.90125 22.318125 \n\" style=\"fill: none; stroke: #000000; stroke-width: 0.8; stroke-linejoin: miter; stroke-linecap: square\"/>\n   </g>\n   <g id=\"patch_5\">\n    <path d=\"M 43.78125 288.430125 \nL 400.90125 288.430125 \n\" style=\"fill: none; stroke: #000000; stroke-width: 0.8; stroke-linejoin: miter; stroke-linecap: square\"/>\n   </g>\n   <g id=\"patch_6\">\n    <path d=\"M 43.78125 22.318125 \nL 400.90125 22.318125 \n\" style=\"fill: none; stroke: #000000; stroke-width: 0.8; stroke-linejoin: miter; stroke-linecap: square\"/>\n   </g>\n   <g id=\"text_17\">\n    <!-- Training and Testing Loss -->\n    <g transform=\"translate(147.407813 16.318125) scale(0.12 -0.12)\">\n     <defs>\n      <path id=\"DejaVuSans-54\" d=\"M -19 4666 \nL 3928 4666 \nL 3928 4134 \nL 2272 4134 \nL 2272 0 \nL 1638 0 \nL 1638 4134 \nL -19 4134 \nL -19 4666 \nz\n\" transform=\"scale(0.015625)\"/>\n      <path id=\"DejaVuSans-72\" d=\"M 2631 2963 \nQ 2534 3019 2420 3045 \nQ 2306 3072 2169 3072 \nQ 1681 3072 1420 2755 \nQ 1159 2438 1159 1844 \nL 1159 0 \nL 581 0 \nL 581 3500 \nL 1159 3500 \nL 1159 2956 \nQ 1341 3275 1631 3429 \nQ 1922 3584 2338 3584 \nQ 2397 3584 2469 3576 \nQ 2541 3569 2628 3553 \nL 2631 2963 \nz\n\" transform=\"scale(0.015625)\"/>\n      <path id=\"DejaVuSans-61\" d=\"M 2194 1759 \nQ 1497 1759 1228 1600 \nQ 959 1441 959 1056 \nQ 959 750 1161 570 \nQ 1363 391 1709 391 \nQ 2188 391 2477 730 \nQ 2766 1069 2766 1631 \nL 2766 1759 \nL 2194 1759 \nz\nM 3341 1997 \nL 3341 0 \nL 2766 0 \nL 2766 531 \nQ 2569 213 2275 61 \nQ 1981 -91 1556 -91 \nQ 1019 -91 701 211 \nQ 384 513 384 1019 \nQ 384 1609 779 1909 \nQ 1175 2209 1959 2209 \nL 2766 2209 \nL 2766 2266 \nQ 2766 2663 2505 2880 \nQ 2244 3097 1772 3097 \nQ 1472 3097 1187 3025 \nQ 903 2953 641 2809 \nL 641 3341 \nQ 956 3463 1253 3523 \nQ 1550 3584 1831 3584 \nQ 2591 3584 2966 3190 \nQ 3341 2797 3341 1997 \nz\n\" transform=\"scale(0.015625)\"/>\n      <path id=\"DejaVuSans-69\" d=\"M 603 3500 \nL 1178 3500 \nL 1178 0 \nL 603 0 \nL 603 3500 \nz\nM 603 4863 \nL 1178 4863 \nL 1178 4134 \nL 603 4134 \nL 603 4863 \nz\n\" transform=\"scale(0.015625)\"/>\n      <path id=\"DejaVuSans-6e\" d=\"M 3513 2113 \nL 3513 0 \nL 2938 0 \nL 2938 2094 \nQ 2938 2591 2744 2837 \nQ 2550 3084 2163 3084 \nQ 1697 3084 1428 2787 \nQ 1159 2491 1159 1978 \nL 1159 0 \nL 581 0 \nL 581 3500 \nL 1159 3500 \nL 1159 2956 \nQ 1366 3272 1645 3428 \nQ 1925 3584 2291 3584 \nQ 2894 3584 3203 3211 \nQ 3513 2838 3513 2113 \nz\n\" transform=\"scale(0.015625)\"/>\n      <path id=\"DejaVuSans-67\" d=\"M 2906 1791 \nQ 2906 2416 2648 2759 \nQ 2391 3103 1925 3103 \nQ 1463 3103 1205 2759 \nQ 947 2416 947 1791 \nQ 947 1169 1205 825 \nQ 1463 481 1925 481 \nQ 2391 481 2648 825 \nQ 2906 1169 2906 1791 \nz\nM 3481 434 \nQ 3481 -459 3084 -895 \nQ 2688 -1331 1869 -1331 \nQ 1566 -1331 1297 -1286 \nQ 1028 -1241 775 -1147 \nL 775 -588 \nQ 1028 -725 1275 -790 \nQ 1522 -856 1778 -856 \nQ 2344 -856 2625 -561 \nQ 2906 -266 2906 331 \nL 2906 616 \nQ 2728 306 2450 153 \nQ 2172 0 1784 0 \nQ 1141 0 747 490 \nQ 353 981 353 1791 \nQ 353 2603 747 3093 \nQ 1141 3584 1784 3584 \nQ 2172 3584 2450 3431 \nQ 2728 3278 2906 2969 \nL 2906 3500 \nL 3481 3500 \nL 3481 434 \nz\n\" transform=\"scale(0.015625)\"/>\n      <path id=\"DejaVuSans-64\" d=\"M 2906 2969 \nL 2906 4863 \nL 3481 4863 \nL 3481 0 \nL 2906 0 \nL 2906 525 \nQ 2725 213 2448 61 \nQ 2172 -91 1784 -91 \nQ 1150 -91 751 415 \nQ 353 922 353 1747 \nQ 353 2572 751 3078 \nQ 1150 3584 1784 3584 \nQ 2172 3584 2448 3432 \nQ 2725 3281 2906 2969 \nz\nM 947 1747 \nQ 947 1113 1208 752 \nQ 1469 391 1925 391 \nQ 2381 391 2643 752 \nQ 2906 1113 2906 1747 \nQ 2906 2381 2643 2742 \nQ 2381 3103 1925 3103 \nQ 1469 3103 1208 2742 \nQ 947 2381 947 1747 \nz\n\" transform=\"scale(0.015625)\"/>\n      <path id=\"DejaVuSans-65\" d=\"M 3597 1894 \nL 3597 1613 \nL 953 1613 \nQ 991 1019 1311 708 \nQ 1631 397 2203 397 \nQ 2534 397 2845 478 \nQ 3156 559 3463 722 \nL 3463 178 \nQ 3153 47 2828 -22 \nQ 2503 -91 2169 -91 \nQ 1331 -91 842 396 \nQ 353 884 353 1716 \nQ 353 2575 817 3079 \nQ 1281 3584 2069 3584 \nQ 2775 3584 3186 3129 \nQ 3597 2675 3597 1894 \nz\nM 3022 2063 \nQ 3016 2534 2758 2815 \nQ 2500 3097 2075 3097 \nQ 1594 3097 1305 2825 \nQ 1016 2553 972 2059 \nL 3022 2063 \nz\n\" transform=\"scale(0.015625)\"/>\n      <path id=\"DejaVuSans-74\" d=\"M 1172 4494 \nL 1172 3500 \nL 2356 3500 \nL 2356 3053 \nL 1172 3053 \nL 1172 1153 \nQ 1172 725 1289 603 \nQ 1406 481 1766 481 \nL 2356 481 \nL 2356 0 \nL 1766 0 \nQ 1100 0 847 248 \nQ 594 497 594 1153 \nL 594 3053 \nL 172 3053 \nL 172 3500 \nL 594 3500 \nL 594 4494 \nL 1172 4494 \nz\n\" transform=\"scale(0.015625)\"/>\n     </defs>\n     <use xlink:href=\"#DejaVuSans-54\"/>\n     <use xlink:href=\"#DejaVuSans-72\" x=\"46.333984\"/>\n     <use xlink:href=\"#DejaVuSans-61\" x=\"87.447266\"/>\n     <use xlink:href=\"#DejaVuSans-69\" x=\"148.726562\"/>\n     <use xlink:href=\"#DejaVuSans-6e\" x=\"176.509766\"/>\n     <use xlink:href=\"#DejaVuSans-69\" x=\"239.888672\"/>\n     <use xlink:href=\"#DejaVuSans-6e\" x=\"267.671875\"/>\n     <use xlink:href=\"#DejaVuSans-67\" x=\"331.050781\"/>\n     <use xlink:href=\"#DejaVuSans-20\" x=\"394.527344\"/>\n     <use xlink:href=\"#DejaVuSans-61\" x=\"426.314453\"/>\n     <use xlink:href=\"#DejaVuSans-6e\" x=\"487.59375\"/>\n     <use xlink:href=\"#DejaVuSans-64\" x=\"550.972656\"/>\n     <use xlink:href=\"#DejaVuSans-20\" x=\"614.449219\"/>\n     <use xlink:href=\"#DejaVuSans-54\" x=\"646.236328\"/>\n     <use xlink:href=\"#DejaVuSans-65\" x=\"690.320312\"/>\n     <use xlink:href=\"#DejaVuSans-73\" x=\"751.84375\"/>\n     <use xlink:href=\"#DejaVuSans-74\" x=\"803.943359\"/>\n     <use xlink:href=\"#DejaVuSans-69\" x=\"843.152344\"/>\n     <use xlink:href=\"#DejaVuSans-6e\" x=\"870.935547\"/>\n     <use xlink:href=\"#DejaVuSans-67\" x=\"934.314453\"/>\n     <use xlink:href=\"#DejaVuSans-20\" x=\"997.791016\"/>\n     <use xlink:href=\"#DejaVuSans-4c\" x=\"1029.578125\"/>\n     <use xlink:href=\"#DejaVuSans-6f\" x=\"1083.541016\"/>\n     <use xlink:href=\"#DejaVuSans-73\" x=\"1144.722656\"/>\n     <use xlink:href=\"#DejaVuSans-73\" x=\"1196.822266\"/>\n    </g>\n   </g>\n   <g id=\"legend_1\">\n    <g id=\"patch_7\">\n     <path d=\"M 337.91375 59.674375 \nL 393.90125 59.674375 \nQ 395.90125 59.674375 395.90125 57.674375 \nL 395.90125 29.318125 \nQ 395.90125 27.318125 393.90125 27.318125 \nL 337.91375 27.318125 \nQ 335.91375 27.318125 335.91375 29.318125 \nL 335.91375 57.674375 \nQ 335.91375 59.674375 337.91375 59.674375 \nz\n\" style=\"fill: #ffffff; opacity: 0.8; stroke: #cccccc; stroke-linejoin: miter\"/>\n    </g>\n    <g id=\"line2d_17\">\n     <path d=\"M 339.91375 35.416562 \nL 349.91375 35.416562 \nL 359.91375 35.416562 \n\" style=\"fill: none; stroke: #1f77b4; stroke-width: 1.5; stroke-linecap: square\"/>\n     <g>\n      <use xlink:href=\"#mf53e2bfcbd\" x=\"349.91375\" y=\"35.416562\" style=\"fill: #1f77b4; stroke: #1f77b4; stroke-linejoin: miter\"/>\n     </g>\n    </g>\n    <g id=\"text_18\">\n     <!-- Train -->\n     <g transform=\"translate(367.91375 38.916562) scale(0.1 -0.1)\">\n      <use xlink:href=\"#DejaVuSans-54\"/>\n      <use xlink:href=\"#DejaVuSans-72\" x=\"46.333984\"/>\n      <use xlink:href=\"#DejaVuSans-61\" x=\"87.447266\"/>\n      <use xlink:href=\"#DejaVuSans-69\" x=\"148.726562\"/>\n      <use xlink:href=\"#DejaVuSans-6e\" x=\"176.509766\"/>\n     </g>\n    </g>\n    <g id=\"line2d_18\">\n     <path d=\"M 339.91375 50.094687 \nL 349.91375 50.094687 \nL 359.91375 50.094687 \n\" style=\"fill: none; stroke: #ff0000; stroke-width: 1.5; stroke-linecap: square\"/>\n     <g>\n      <use xlink:href=\"#m5aaa068879\" x=\"349.91375\" y=\"50.094687\" style=\"fill: #ff0000; stroke: #ff0000\"/>\n     </g>\n    </g>\n    <g id=\"text_19\">\n     <!-- Test -->\n     <g transform=\"translate(367.91375 53.594687) scale(0.1 -0.1)\">\n      <use xlink:href=\"#DejaVuSans-54\"/>\n      <use xlink:href=\"#DejaVuSans-65\" x=\"44.083984\"/>\n      <use xlink:href=\"#DejaVuSans-73\" x=\"105.607422\"/>\n      <use xlink:href=\"#DejaVuSans-74\" x=\"157.707031\"/>\n     </g>\n    </g>\n   </g>\n  </g>\n </g>\n <defs>\n  <clipPath id=\"p91c56b96b1\">\n   <rect x=\"43.78125\" y=\"22.318125\" width=\"357.12\" height=\"266.112\"/>\n  </clipPath>\n </defs>\n</svg>\n"
          },
          "metadata": {}
        }
      ]
    },
    {
      "cell_type": "markdown",
      "source": [
        "#Evaluation"
      ],
      "metadata": {
        "id": "cd5RpD8EGEyA"
      }
    },
    {
      "cell_type": "code",
      "source": [
        "def compute_metrics(original, reconstructed):\n",
        "    original_np = original.permute(1, 2, 0).cpu().numpy()\n",
        "    reconstructed_np = reconstructed.permute(1, 2, 0).detach().cpu().numpy()\n",
        "    ssim_value = ssim(original_np, reconstructed_np, multichannel=True)\n",
        "    psnr_value = psnr(original_np, reconstructed_np, data_range=original_np.max() - original_np.min())\n",
        "    return ssim_value, psnr_value"
      ],
      "metadata": {
        "id": "hOuG4-LhqhTT"
      },
      "execution_count": null,
      "outputs": []
    },
    {
      "cell_type": "code",
      "source": [
        "net.eval()\n",
        "ssim_values = []\n",
        "psnr_values = []\n",
        "\n",
        "with torch.no_grad():\n",
        "    for i in range(len(test_mean_images_stacked)):\n",
        "        original = test_mean_images_stacked[i].unsqueeze(0).to(device)\n",
        "        reconstructed = net(original).squeeze(0)\n",
        "        ssim_value, psnr_value = compute_metrics(original.squeeze(0).cpu(), reconstructed.cpu())\n",
        "        ssim_values.append(ssim_value)\n",
        "        psnr_values.append(psnr_value)\n",
        "\n",
        "average_ssim = np.mean(ssim_values)\n",
        "average_psnr = np.mean(psnr_values)\n",
        "print(f'Average SSIM: {average_ssim:.4f}, Average PSNR: {average_psnr:.4f}')"
      ],
      "metadata": {
        "colab": {
          "base_uri": "https://localhost:8080/"
        },
        "id": "W4sGXp_CGFP7",
        "outputId": "d05c39e8-a32e-4628-dd11-f6d63d740598"
      },
      "execution_count": null,
      "outputs": [
        {
          "output_type": "stream",
          "name": "stderr",
          "text": [
            "<ipython-input-13-9f0de38106aa>:5: FutureWarning: `multichannel` is a deprecated argument name for `structural_similarity`. It will be removed in version 1.0. Please use `channel_axis` instead.\n",
            "  ssim_value = ssim(original_np, reconstructed_np, multichannel=True)\n"
          ]
        },
        {
          "output_type": "stream",
          "name": "stdout",
          "text": [
            "Average SSIM: 0.2322, Average PSNR: 15.6239\n"
          ]
        }
      ]
    },
    {
      "cell_type": "code",
      "source": [
        "# Visualize the original and reconstructed images\n",
        "fig, axes = plt.subplots(1, 2, figsize=(10, 5))\n",
        "axes[0].imshow(test_mean_images_stacked[0].permute(1, 2, 0).cpu().numpy())\n",
        "axes[0].set_title('Original Mean Image')\n",
        "reconstructed_image = net(test_mean_images_stacked[0].unsqueeze(0).to(device)).squeeze(0)\n",
        "axes[1].imshow(reconstructed_image.permute(1, 2, 0).detach().cpu().numpy())\n",
        "axes[1].set_title('Reconstructed Image')\n",
        "plt.show()"
      ],
      "metadata": {
        "colab": {
          "base_uri": "https://localhost:8080/",
          "height": 456
        },
        "id": "b7i8fvELqpjW",
        "outputId": "d22e7dbc-b38a-4c91-bb77-5b8b73913099"
      },
      "execution_count": null,
      "outputs": [
        {
          "output_type": "stream",
          "name": "stderr",
          "text": [
            "WARNING:matplotlib.image:Clipping input data to the valid range for imshow with RGB data ([0..1] for floats or [0..255] for integers).\n",
            "WARNING:matplotlib.image:Clipping input data to the valid range for imshow with RGB data ([0..1] for floats or [0..255] for integers).\n"
          ]
        },
        {
          "output_type": "display_data",
          "data": {
            "text/plain": [
              "<Figure size 1000x500 with 2 Axes>"
            ],
            "image/svg+xml": "<?xml version=\"1.0\" encoding=\"utf-8\" standalone=\"no\"?>\n<!DOCTYPE svg PUBLIC \"-//W3C//DTD SVG 1.1//EN\"\n  \"http://www.w3.org/Graphics/SVG/1.1/DTD/svg11.dtd\">\n<svg xmlns:xlink=\"http://www.w3.org/1999/xlink\" width=\"592.125pt\" height=\"299.832614pt\" viewBox=\"0 0 592.125 299.832614\" xmlns=\"http://www.w3.org/2000/svg\" version=\"1.1\">\n <metadata>\n  <rdf:RDF xmlns:dc=\"http://purl.org/dc/elements/1.1/\" xmlns:cc=\"http://creativecommons.org/ns#\" xmlns:rdf=\"http://www.w3.org/1999/02/22-rdf-syntax-ns#\">\n   <cc:Work>\n    <dc:type rdf:resource=\"http://purl.org/dc/dcmitype/StillImage\"/>\n    <dc:date>2024-05-29T19:55:51.105705</dc:date>\n    <dc:format>image/svg+xml</dc:format>\n    <dc:creator>\n     <cc:Agent>\n      <dc:title>Matplotlib v3.7.1, https://matplotlib.org/</dc:title>\n     </cc:Agent>\n    </dc:creator>\n   </cc:Work>\n  </rdf:RDF>\n </metadata>\n <defs>\n  <style type=\"text/css\">*{stroke-linejoin: round; stroke-linecap: butt}</style>\n </defs>\n <g id=\"figure_1\">\n  <g id=\"patch_1\">\n   <path d=\"M 0 299.832614 \nL 592.125 299.832614 \nL 592.125 0 \nL 0 0 \nz\n\" style=\"fill: #ffffff\"/>\n  </g>\n  <g id=\"axes_1\">\n   <g id=\"patch_2\">\n    <path d=\"M 26.925 275.954489 \nL 280.561364 275.954489 \nL 280.561364 22.318125 \nL 26.925 22.318125 \nz\n\" style=\"fill: #ffffff\"/>\n   </g>\n   <g clip-path=\"url(#p58f8c91610)\">\n    <image xlink:href=\"data:image/png;base64,\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\" id=\"imagef83a704866\" transform=\"scale(1 -1) translate(0 -254.16)\" x=\"26.925\" y=\"-21.794489\" width=\"254.16\" height=\"254.16\"/>\n   </g>\n   <g id=\"matplotlib.axis_1\">\n    <g id=\"xtick_1\">\n     <g id=\"line2d_1\">\n      <defs>\n       <path id=\"m69edca1481\" d=\"M 0 0 \nL 0 3.5 \n\" style=\"stroke: #000000; stroke-width: 0.8\"/>\n      </defs>\n      <g>\n       <use xlink:href=\"#m69edca1481\" x=\"30.888068\" y=\"275.954489\" style=\"stroke: #000000; stroke-width: 0.8\"/>\n      </g>\n     </g>\n     <g id=\"text_1\">\n      <!-- 0 -->\n      <g transform=\"translate(27.706818 290.552926) scale(0.1 -0.1)\">\n       <defs>\n        <path id=\"DejaVuSans-30\" d=\"M 2034 4250 \nQ 1547 4250 1301 3770 \nQ 1056 3291 1056 2328 \nQ 1056 1369 1301 889 \nQ 1547 409 2034 409 \nQ 2525 409 2770 889 \nQ 3016 1369 3016 2328 \nQ 3016 3291 2770 3770 \nQ 2525 4250 2034 4250 \nz\nM 2034 4750 \nQ 2819 4750 3233 4129 \nQ 3647 3509 3647 2328 \nQ 3647 1150 3233 529 \nQ 2819 -91 2034 -91 \nQ 1250 -91 836 529 \nQ 422 1150 422 2328 \nQ 422 3509 836 4129 \nQ 1250 4750 2034 4750 \nz\n\" transform=\"scale(0.015625)\"/>\n       </defs>\n       <use xlink:href=\"#DejaVuSans-30\"/>\n      </g>\n     </g>\n    </g>\n    <g id=\"xtick_2\">\n     <g id=\"line2d_2\">\n      <g>\n       <use xlink:href=\"#m69edca1481\" x=\"70.51875\" y=\"275.954489\" style=\"stroke: #000000; stroke-width: 0.8\"/>\n      </g>\n     </g>\n     <g id=\"text_2\">\n      <!-- 5 -->\n      <g transform=\"translate(67.3375 290.552926) scale(0.1 -0.1)\">\n       <defs>\n        <path id=\"DejaVuSans-35\" d=\"M 691 4666 \nL 3169 4666 \nL 3169 4134 \nL 1269 4134 \nL 1269 2991 \nQ 1406 3038 1543 3061 \nQ 1681 3084 1819 3084 \nQ 2600 3084 3056 2656 \nQ 3513 2228 3513 1497 \nQ 3513 744 3044 326 \nQ 2575 -91 1722 -91 \nQ 1428 -91 1123 -41 \nQ 819 9 494 109 \nL 494 744 \nQ 775 591 1075 516 \nQ 1375 441 1709 441 \nQ 2250 441 2565 725 \nQ 2881 1009 2881 1497 \nQ 2881 1984 2565 2268 \nQ 2250 2553 1709 2553 \nQ 1456 2553 1204 2497 \nQ 953 2441 691 2322 \nL 691 4666 \nz\n\" transform=\"scale(0.015625)\"/>\n       </defs>\n       <use xlink:href=\"#DejaVuSans-35\"/>\n      </g>\n     </g>\n    </g>\n    <g id=\"xtick_3\">\n     <g id=\"line2d_3\">\n      <g>\n       <use xlink:href=\"#m69edca1481\" x=\"110.149432\" y=\"275.954489\" style=\"stroke: #000000; stroke-width: 0.8\"/>\n      </g>\n     </g>\n     <g id=\"text_3\">\n      <!-- 10 -->\n      <g transform=\"translate(103.786932 290.552926) scale(0.1 -0.1)\">\n       <defs>\n        <path id=\"DejaVuSans-31\" d=\"M 794 531 \nL 1825 531 \nL 1825 4091 \nL 703 3866 \nL 703 4441 \nL 1819 4666 \nL 2450 4666 \nL 2450 531 \nL 3481 531 \nL 3481 0 \nL 794 0 \nL 794 531 \nz\n\" transform=\"scale(0.015625)\"/>\n       </defs>\n       <use xlink:href=\"#DejaVuSans-31\"/>\n       <use xlink:href=\"#DejaVuSans-30\" x=\"63.623047\"/>\n      </g>\n     </g>\n    </g>\n    <g id=\"xtick_4\">\n     <g id=\"line2d_4\">\n      <g>\n       <use xlink:href=\"#m69edca1481\" x=\"149.780114\" y=\"275.954489\" style=\"stroke: #000000; stroke-width: 0.8\"/>\n      </g>\n     </g>\n     <g id=\"text_4\">\n      <!-- 15 -->\n      <g transform=\"translate(143.417614 290.552926) scale(0.1 -0.1)\">\n       <use xlink:href=\"#DejaVuSans-31\"/>\n       <use xlink:href=\"#DejaVuSans-35\" x=\"63.623047\"/>\n      </g>\n     </g>\n    </g>\n    <g id=\"xtick_5\">\n     <g id=\"line2d_5\">\n      <g>\n       <use xlink:href=\"#m69edca1481\" x=\"189.410795\" y=\"275.954489\" style=\"stroke: #000000; stroke-width: 0.8\"/>\n      </g>\n     </g>\n     <g id=\"text_5\">\n      <!-- 20 -->\n      <g transform=\"translate(183.048295 290.552926) scale(0.1 -0.1)\">\n       <defs>\n        <path id=\"DejaVuSans-32\" d=\"M 1228 531 \nL 3431 531 \nL 3431 0 \nL 469 0 \nL 469 531 \nQ 828 903 1448 1529 \nQ 2069 2156 2228 2338 \nQ 2531 2678 2651 2914 \nQ 2772 3150 2772 3378 \nQ 2772 3750 2511 3984 \nQ 2250 4219 1831 4219 \nQ 1534 4219 1204 4116 \nQ 875 4013 500 3803 \nL 500 4441 \nQ 881 4594 1212 4672 \nQ 1544 4750 1819 4750 \nQ 2544 4750 2975 4387 \nQ 3406 4025 3406 3419 \nQ 3406 3131 3298 2873 \nQ 3191 2616 2906 2266 \nQ 2828 2175 2409 1742 \nQ 1991 1309 1228 531 \nz\n\" transform=\"scale(0.015625)\"/>\n       </defs>\n       <use xlink:href=\"#DejaVuSans-32\"/>\n       <use xlink:href=\"#DejaVuSans-30\" x=\"63.623047\"/>\n      </g>\n     </g>\n    </g>\n    <g id=\"xtick_6\">\n     <g id=\"line2d_6\">\n      <g>\n       <use xlink:href=\"#m69edca1481\" x=\"229.041477\" y=\"275.954489\" style=\"stroke: #000000; stroke-width: 0.8\"/>\n      </g>\n     </g>\n     <g id=\"text_6\">\n      <!-- 25 -->\n      <g transform=\"translate(222.678977 290.552926) scale(0.1 -0.1)\">\n       <use xlink:href=\"#DejaVuSans-32\"/>\n       <use xlink:href=\"#DejaVuSans-35\" x=\"63.623047\"/>\n      </g>\n     </g>\n    </g>\n    <g id=\"xtick_7\">\n     <g id=\"line2d_7\">\n      <g>\n       <use xlink:href=\"#m69edca1481\" x=\"268.672159\" y=\"275.954489\" style=\"stroke: #000000; stroke-width: 0.8\"/>\n      </g>\n     </g>\n     <g id=\"text_7\">\n      <!-- 30 -->\n      <g transform=\"translate(262.309659 290.552926) scale(0.1 -0.1)\">\n       <defs>\n        <path id=\"DejaVuSans-33\" d=\"M 2597 2516 \nQ 3050 2419 3304 2112 \nQ 3559 1806 3559 1356 \nQ 3559 666 3084 287 \nQ 2609 -91 1734 -91 \nQ 1441 -91 1130 -33 \nQ 819 25 488 141 \nL 488 750 \nQ 750 597 1062 519 \nQ 1375 441 1716 441 \nQ 2309 441 2620 675 \nQ 2931 909 2931 1356 \nQ 2931 1769 2642 2001 \nQ 2353 2234 1838 2234 \nL 1294 2234 \nL 1294 2753 \nL 1863 2753 \nQ 2328 2753 2575 2939 \nQ 2822 3125 2822 3475 \nQ 2822 3834 2567 4026 \nQ 2313 4219 1838 4219 \nQ 1578 4219 1281 4162 \nQ 984 4106 628 3988 \nL 628 4550 \nQ 988 4650 1302 4700 \nQ 1616 4750 1894 4750 \nQ 2613 4750 3031 4423 \nQ 3450 4097 3450 3541 \nQ 3450 3153 3228 2886 \nQ 3006 2619 2597 2516 \nz\n\" transform=\"scale(0.015625)\"/>\n       </defs>\n       <use xlink:href=\"#DejaVuSans-33\"/>\n       <use xlink:href=\"#DejaVuSans-30\" x=\"63.623047\"/>\n      </g>\n     </g>\n    </g>\n   </g>\n   <g id=\"matplotlib.axis_2\">\n    <g id=\"ytick_1\">\n     <g id=\"line2d_8\">\n      <defs>\n       <path id=\"meebd56f688\" d=\"M 0 0 \nL -3.5 0 \n\" style=\"stroke: #000000; stroke-width: 0.8\"/>\n      </defs>\n      <g>\n       <use xlink:href=\"#meebd56f688\" x=\"26.925\" y=\"26.281193\" style=\"stroke: #000000; stroke-width: 0.8\"/>\n      </g>\n     </g>\n     <g id=\"text_8\">\n      <!-- 0 -->\n      <g transform=\"translate(13.5625 30.080412) scale(0.1 -0.1)\">\n       <use xlink:href=\"#DejaVuSans-30\"/>\n      </g>\n     </g>\n    </g>\n    <g id=\"ytick_2\">\n     <g id=\"line2d_9\">\n      <g>\n       <use xlink:href=\"#meebd56f688\" x=\"26.925\" y=\"65.911875\" style=\"stroke: #000000; stroke-width: 0.8\"/>\n      </g>\n     </g>\n     <g id=\"text_9\">\n      <!-- 5 -->\n      <g transform=\"translate(13.5625 69.711094) scale(0.1 -0.1)\">\n       <use xlink:href=\"#DejaVuSans-35\"/>\n      </g>\n     </g>\n    </g>\n    <g id=\"ytick_3\">\n     <g id=\"line2d_10\">\n      <g>\n       <use xlink:href=\"#meebd56f688\" x=\"26.925\" y=\"105.542557\" style=\"stroke: #000000; stroke-width: 0.8\"/>\n      </g>\n     </g>\n     <g id=\"text_10\">\n      <!-- 10 -->\n      <g transform=\"translate(7.2 109.341776) scale(0.1 -0.1)\">\n       <use xlink:href=\"#DejaVuSans-31\"/>\n       <use xlink:href=\"#DejaVuSans-30\" x=\"63.623047\"/>\n      </g>\n     </g>\n    </g>\n    <g id=\"ytick_4\">\n     <g id=\"line2d_11\">\n      <g>\n       <use xlink:href=\"#meebd56f688\" x=\"26.925\" y=\"145.173239\" style=\"stroke: #000000; stroke-width: 0.8\"/>\n      </g>\n     </g>\n     <g id=\"text_11\">\n      <!-- 15 -->\n      <g transform=\"translate(7.2 148.972457) scale(0.1 -0.1)\">\n       <use xlink:href=\"#DejaVuSans-31\"/>\n       <use xlink:href=\"#DejaVuSans-35\" x=\"63.623047\"/>\n      </g>\n     </g>\n    </g>\n    <g id=\"ytick_5\">\n     <g id=\"line2d_12\">\n      <g>\n       <use xlink:href=\"#meebd56f688\" x=\"26.925\" y=\"184.80392\" style=\"stroke: #000000; stroke-width: 0.8\"/>\n      </g>\n     </g>\n     <g id=\"text_12\">\n      <!-- 20 -->\n      <g transform=\"translate(7.2 188.603139) scale(0.1 -0.1)\">\n       <use xlink:href=\"#DejaVuSans-32\"/>\n       <use xlink:href=\"#DejaVuSans-30\" x=\"63.623047\"/>\n      </g>\n     </g>\n    </g>\n    <g id=\"ytick_6\">\n     <g id=\"line2d_13\">\n      <g>\n       <use xlink:href=\"#meebd56f688\" x=\"26.925\" y=\"224.434602\" style=\"stroke: #000000; stroke-width: 0.8\"/>\n      </g>\n     </g>\n     <g id=\"text_13\">\n      <!-- 25 -->\n      <g transform=\"translate(7.2 228.233821) scale(0.1 -0.1)\">\n       <use xlink:href=\"#DejaVuSans-32\"/>\n       <use xlink:href=\"#DejaVuSans-35\" x=\"63.623047\"/>\n      </g>\n     </g>\n    </g>\n    <g id=\"ytick_7\">\n     <g id=\"line2d_14\">\n      <g>\n       <use xlink:href=\"#meebd56f688\" x=\"26.925\" y=\"264.065284\" style=\"stroke: #000000; stroke-width: 0.8\"/>\n      </g>\n     </g>\n     <g id=\"text_14\">\n      <!-- 30 -->\n      <g transform=\"translate(7.2 267.864503) scale(0.1 -0.1)\">\n       <use xlink:href=\"#DejaVuSans-33\"/>\n       <use xlink:href=\"#DejaVuSans-30\" x=\"63.623047\"/>\n      </g>\n     </g>\n    </g>\n   </g>\n   <g id=\"patch_3\">\n    <path d=\"M 26.925 275.954489 \nL 26.925 22.318125 \n\" style=\"fill: none; stroke: #000000; stroke-width: 0.8; stroke-linejoin: miter; stroke-linecap: square\"/>\n   </g>\n   <g id=\"patch_4\">\n    <path d=\"M 280.561364 275.954489 \nL 280.561364 22.318125 \n\" style=\"fill: none; stroke: #000000; stroke-width: 0.8; stroke-linejoin: miter; stroke-linecap: square\"/>\n   </g>\n   <g id=\"patch_5\">\n    <path d=\"M 26.925 275.954489 \nL 280.561364 275.954489 \n\" style=\"fill: none; stroke: #000000; stroke-width: 0.8; stroke-linejoin: miter; stroke-linecap: square\"/>\n   </g>\n   <g id=\"patch_6\">\n    <path d=\"M 26.925 22.318125 \nL 280.561364 22.318125 \n\" style=\"fill: none; stroke: #000000; stroke-width: 0.8; stroke-linejoin: miter; stroke-linecap: square\"/>\n   </g>\n   <g id=\"text_15\">\n    <!-- Original Mean Image -->\n    <g transform=\"translate(91.310369 16.318125) scale(0.12 -0.12)\">\n     <defs>\n      <path id=\"DejaVuSans-4f\" d=\"M 2522 4238 \nQ 1834 4238 1429 3725 \nQ 1025 3213 1025 2328 \nQ 1025 1447 1429 934 \nQ 1834 422 2522 422 \nQ 3209 422 3611 934 \nQ 4013 1447 4013 2328 \nQ 4013 3213 3611 3725 \nQ 3209 4238 2522 4238 \nz\nM 2522 4750 \nQ 3503 4750 4090 4092 \nQ 4678 3434 4678 2328 \nQ 4678 1225 4090 567 \nQ 3503 -91 2522 -91 \nQ 1538 -91 948 565 \nQ 359 1222 359 2328 \nQ 359 3434 948 4092 \nQ 1538 4750 2522 4750 \nz\n\" transform=\"scale(0.015625)\"/>\n      <path id=\"DejaVuSans-72\" d=\"M 2631 2963 \nQ 2534 3019 2420 3045 \nQ 2306 3072 2169 3072 \nQ 1681 3072 1420 2755 \nQ 1159 2438 1159 1844 \nL 1159 0 \nL 581 0 \nL 581 3500 \nL 1159 3500 \nL 1159 2956 \nQ 1341 3275 1631 3429 \nQ 1922 3584 2338 3584 \nQ 2397 3584 2469 3576 \nQ 2541 3569 2628 3553 \nL 2631 2963 \nz\n\" transform=\"scale(0.015625)\"/>\n      <path id=\"DejaVuSans-69\" d=\"M 603 3500 \nL 1178 3500 \nL 1178 0 \nL 603 0 \nL 603 3500 \nz\nM 603 4863 \nL 1178 4863 \nL 1178 4134 \nL 603 4134 \nL 603 4863 \nz\n\" transform=\"scale(0.015625)\"/>\n      <path id=\"DejaVuSans-67\" d=\"M 2906 1791 \nQ 2906 2416 2648 2759 \nQ 2391 3103 1925 3103 \nQ 1463 3103 1205 2759 \nQ 947 2416 947 1791 \nQ 947 1169 1205 825 \nQ 1463 481 1925 481 \nQ 2391 481 2648 825 \nQ 2906 1169 2906 1791 \nz\nM 3481 434 \nQ 3481 -459 3084 -895 \nQ 2688 -1331 1869 -1331 \nQ 1566 -1331 1297 -1286 \nQ 1028 -1241 775 -1147 \nL 775 -588 \nQ 1028 -725 1275 -790 \nQ 1522 -856 1778 -856 \nQ 2344 -856 2625 -561 \nQ 2906 -266 2906 331 \nL 2906 616 \nQ 2728 306 2450 153 \nQ 2172 0 1784 0 \nQ 1141 0 747 490 \nQ 353 981 353 1791 \nQ 353 2603 747 3093 \nQ 1141 3584 1784 3584 \nQ 2172 3584 2450 3431 \nQ 2728 3278 2906 2969 \nL 2906 3500 \nL 3481 3500 \nL 3481 434 \nz\n\" transform=\"scale(0.015625)\"/>\n      <path id=\"DejaVuSans-6e\" d=\"M 3513 2113 \nL 3513 0 \nL 2938 0 \nL 2938 2094 \nQ 2938 2591 2744 2837 \nQ 2550 3084 2163 3084 \nQ 1697 3084 1428 2787 \nQ 1159 2491 1159 1978 \nL 1159 0 \nL 581 0 \nL 581 3500 \nL 1159 3500 \nL 1159 2956 \nQ 1366 3272 1645 3428 \nQ 1925 3584 2291 3584 \nQ 2894 3584 3203 3211 \nQ 3513 2838 3513 2113 \nz\n\" transform=\"scale(0.015625)\"/>\n      <path id=\"DejaVuSans-61\" d=\"M 2194 1759 \nQ 1497 1759 1228 1600 \nQ 959 1441 959 1056 \nQ 959 750 1161 570 \nQ 1363 391 1709 391 \nQ 2188 391 2477 730 \nQ 2766 1069 2766 1631 \nL 2766 1759 \nL 2194 1759 \nz\nM 3341 1997 \nL 3341 0 \nL 2766 0 \nL 2766 531 \nQ 2569 213 2275 61 \nQ 1981 -91 1556 -91 \nQ 1019 -91 701 211 \nQ 384 513 384 1019 \nQ 384 1609 779 1909 \nQ 1175 2209 1959 2209 \nL 2766 2209 \nL 2766 2266 \nQ 2766 2663 2505 2880 \nQ 2244 3097 1772 3097 \nQ 1472 3097 1187 3025 \nQ 903 2953 641 2809 \nL 641 3341 \nQ 956 3463 1253 3523 \nQ 1550 3584 1831 3584 \nQ 2591 3584 2966 3190 \nQ 3341 2797 3341 1997 \nz\n\" transform=\"scale(0.015625)\"/>\n      <path id=\"DejaVuSans-6c\" d=\"M 603 4863 \nL 1178 4863 \nL 1178 0 \nL 603 0 \nL 603 4863 \nz\n\" transform=\"scale(0.015625)\"/>\n      <path id=\"DejaVuSans-20\" transform=\"scale(0.015625)\"/>\n      <path id=\"DejaVuSans-4d\" d=\"M 628 4666 \nL 1569 4666 \nL 2759 1491 \nL 3956 4666 \nL 4897 4666 \nL 4897 0 \nL 4281 0 \nL 4281 4097 \nL 3078 897 \nL 2444 897 \nL 1241 4097 \nL 1241 0 \nL 628 0 \nL 628 4666 \nz\n\" transform=\"scale(0.015625)\"/>\n      <path id=\"DejaVuSans-65\" d=\"M 3597 1894 \nL 3597 1613 \nL 953 1613 \nQ 991 1019 1311 708 \nQ 1631 397 2203 397 \nQ 2534 397 2845 478 \nQ 3156 559 3463 722 \nL 3463 178 \nQ 3153 47 2828 -22 \nQ 2503 -91 2169 -91 \nQ 1331 -91 842 396 \nQ 353 884 353 1716 \nQ 353 2575 817 3079 \nQ 1281 3584 2069 3584 \nQ 2775 3584 3186 3129 \nQ 3597 2675 3597 1894 \nz\nM 3022 2063 \nQ 3016 2534 2758 2815 \nQ 2500 3097 2075 3097 \nQ 1594 3097 1305 2825 \nQ 1016 2553 972 2059 \nL 3022 2063 \nz\n\" transform=\"scale(0.015625)\"/>\n      <path id=\"DejaVuSans-49\" d=\"M 628 4666 \nL 1259 4666 \nL 1259 0 \nL 628 0 \nL 628 4666 \nz\n\" transform=\"scale(0.015625)\"/>\n      <path id=\"DejaVuSans-6d\" d=\"M 3328 2828 \nQ 3544 3216 3844 3400 \nQ 4144 3584 4550 3584 \nQ 5097 3584 5394 3201 \nQ 5691 2819 5691 2113 \nL 5691 0 \nL 5113 0 \nL 5113 2094 \nQ 5113 2597 4934 2840 \nQ 4756 3084 4391 3084 \nQ 3944 3084 3684 2787 \nQ 3425 2491 3425 1978 \nL 3425 0 \nL 2847 0 \nL 2847 2094 \nQ 2847 2600 2669 2842 \nQ 2491 3084 2119 3084 \nQ 1678 3084 1418 2786 \nQ 1159 2488 1159 1978 \nL 1159 0 \nL 581 0 \nL 581 3500 \nL 1159 3500 \nL 1159 2956 \nQ 1356 3278 1631 3431 \nQ 1906 3584 2284 3584 \nQ 2666 3584 2933 3390 \nQ 3200 3197 3328 2828 \nz\n\" transform=\"scale(0.015625)\"/>\n     </defs>\n     <use xlink:href=\"#DejaVuSans-4f\"/>\n     <use xlink:href=\"#DejaVuSans-72\" x=\"78.710938\"/>\n     <use xlink:href=\"#DejaVuSans-69\" x=\"119.824219\"/>\n     <use xlink:href=\"#DejaVuSans-67\" x=\"147.607422\"/>\n     <use xlink:href=\"#DejaVuSans-69\" x=\"211.083984\"/>\n     <use xlink:href=\"#DejaVuSans-6e\" x=\"238.867188\"/>\n     <use xlink:href=\"#DejaVuSans-61\" x=\"302.246094\"/>\n     <use xlink:href=\"#DejaVuSans-6c\" x=\"363.525391\"/>\n     <use xlink:href=\"#DejaVuSans-20\" x=\"391.308594\"/>\n     <use xlink:href=\"#DejaVuSans-4d\" x=\"423.095703\"/>\n     <use xlink:href=\"#DejaVuSans-65\" x=\"509.375\"/>\n     <use xlink:href=\"#DejaVuSans-61\" x=\"570.898438\"/>\n     <use xlink:href=\"#DejaVuSans-6e\" x=\"632.177734\"/>\n     <use xlink:href=\"#DejaVuSans-20\" x=\"695.556641\"/>\n     <use xlink:href=\"#DejaVuSans-49\" x=\"727.34375\"/>\n     <use xlink:href=\"#DejaVuSans-6d\" x=\"756.835938\"/>\n     <use xlink:href=\"#DejaVuSans-61\" x=\"854.248047\"/>\n     <use xlink:href=\"#DejaVuSans-67\" x=\"915.527344\"/>\n     <use xlink:href=\"#DejaVuSans-65\" x=\"979.003906\"/>\n    </g>\n   </g>\n  </g>\n  <g id=\"axes_2\">\n   <g id=\"patch_7\">\n    <path d=\"M 331.288636 275.954489 \nL 584.925 275.954489 \nL 584.925 22.318125 \nL 331.288636 22.318125 \nz\n\" style=\"fill: #ffffff\"/>\n   </g>\n   <g clip-path=\"url(#pf7b589f26a)\">\n    <image xlink:href=\"data:image/png;base64,\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\" id=\"imagec56193a73b\" transform=\"scale(1 -1) translate(0 -254.16)\" x=\"331.288636\" y=\"-21.794489\" width=\"254.16\" height=\"254.16\"/>\n   </g>\n   <g id=\"matplotlib.axis_3\">\n    <g id=\"xtick_8\">\n     <g id=\"line2d_15\">\n      <g>\n       <use xlink:href=\"#m69edca1481\" x=\"335.251705\" y=\"275.954489\" style=\"stroke: #000000; stroke-width: 0.8\"/>\n      </g>\n     </g>\n     <g id=\"text_16\">\n      <!-- 0 -->\n      <g transform=\"translate(332.070455 290.552926) scale(0.1 -0.1)\">\n       <use xlink:href=\"#DejaVuSans-30\"/>\n      </g>\n     </g>\n    </g>\n    <g id=\"xtick_9\">\n     <g id=\"line2d_16\">\n      <g>\n       <use xlink:href=\"#m69edca1481\" x=\"374.882386\" y=\"275.954489\" style=\"stroke: #000000; stroke-width: 0.8\"/>\n      </g>\n     </g>\n     <g id=\"text_17\">\n      <!-- 5 -->\n      <g transform=\"translate(371.701136 290.552926) scale(0.1 -0.1)\">\n       <use xlink:href=\"#DejaVuSans-35\"/>\n      </g>\n     </g>\n    </g>\n    <g id=\"xtick_10\">\n     <g id=\"line2d_17\">\n      <g>\n       <use xlink:href=\"#m69edca1481\" x=\"414.513068\" y=\"275.954489\" style=\"stroke: #000000; stroke-width: 0.8\"/>\n      </g>\n     </g>\n     <g id=\"text_18\">\n      <!-- 10 -->\n      <g transform=\"translate(408.150568 290.552926) scale(0.1 -0.1)\">\n       <use xlink:href=\"#DejaVuSans-31\"/>\n       <use xlink:href=\"#DejaVuSans-30\" x=\"63.623047\"/>\n      </g>\n     </g>\n    </g>\n    <g id=\"xtick_11\">\n     <g id=\"line2d_18\">\n      <g>\n       <use xlink:href=\"#m69edca1481\" x=\"454.14375\" y=\"275.954489\" style=\"stroke: #000000; stroke-width: 0.8\"/>\n      </g>\n     </g>\n     <g id=\"text_19\">\n      <!-- 15 -->\n      <g transform=\"translate(447.78125 290.552926) scale(0.1 -0.1)\">\n       <use xlink:href=\"#DejaVuSans-31\"/>\n       <use xlink:href=\"#DejaVuSans-35\" x=\"63.623047\"/>\n      </g>\n     </g>\n    </g>\n    <g id=\"xtick_12\">\n     <g id=\"line2d_19\">\n      <g>\n       <use xlink:href=\"#m69edca1481\" x=\"493.774432\" y=\"275.954489\" style=\"stroke: #000000; stroke-width: 0.8\"/>\n      </g>\n     </g>\n     <g id=\"text_20\">\n      <!-- 20 -->\n      <g transform=\"translate(487.411932 290.552926) scale(0.1 -0.1)\">\n       <use xlink:href=\"#DejaVuSans-32\"/>\n       <use xlink:href=\"#DejaVuSans-30\" x=\"63.623047\"/>\n      </g>\n     </g>\n    </g>\n    <g id=\"xtick_13\">\n     <g id=\"line2d_20\">\n      <g>\n       <use xlink:href=\"#m69edca1481\" x=\"533.405114\" y=\"275.954489\" style=\"stroke: #000000; stroke-width: 0.8\"/>\n      </g>\n     </g>\n     <g id=\"text_21\">\n      <!-- 25 -->\n      <g transform=\"translate(527.042614 290.552926) scale(0.1 -0.1)\">\n       <use xlink:href=\"#DejaVuSans-32\"/>\n       <use xlink:href=\"#DejaVuSans-35\" x=\"63.623047\"/>\n      </g>\n     </g>\n    </g>\n    <g id=\"xtick_14\">\n     <g id=\"line2d_21\">\n      <g>\n       <use xlink:href=\"#m69edca1481\" x=\"573.035795\" y=\"275.954489\" style=\"stroke: #000000; stroke-width: 0.8\"/>\n      </g>\n     </g>\n     <g id=\"text_22\">\n      <!-- 30 -->\n      <g transform=\"translate(566.673295 290.552926) scale(0.1 -0.1)\">\n       <use xlink:href=\"#DejaVuSans-33\"/>\n       <use xlink:href=\"#DejaVuSans-30\" x=\"63.623047\"/>\n      </g>\n     </g>\n    </g>\n   </g>\n   <g id=\"matplotlib.axis_4\">\n    <g id=\"ytick_8\">\n     <g id=\"line2d_22\">\n      <g>\n       <use xlink:href=\"#meebd56f688\" x=\"331.288636\" y=\"26.281193\" style=\"stroke: #000000; stroke-width: 0.8\"/>\n      </g>\n     </g>\n     <g id=\"text_23\">\n      <!-- 0 -->\n      <g transform=\"translate(317.926136 30.080412) scale(0.1 -0.1)\">\n       <use xlink:href=\"#DejaVuSans-30\"/>\n      </g>\n     </g>\n    </g>\n    <g id=\"ytick_9\">\n     <g id=\"line2d_23\">\n      <g>\n       <use xlink:href=\"#meebd56f688\" x=\"331.288636\" y=\"65.911875\" style=\"stroke: #000000; stroke-width: 0.8\"/>\n      </g>\n     </g>\n     <g id=\"text_24\">\n      <!-- 5 -->\n      <g transform=\"translate(317.926136 69.711094) scale(0.1 -0.1)\">\n       <use xlink:href=\"#DejaVuSans-35\"/>\n      </g>\n     </g>\n    </g>\n    <g id=\"ytick_10\">\n     <g id=\"line2d_24\">\n      <g>\n       <use xlink:href=\"#meebd56f688\" x=\"331.288636\" y=\"105.542557\" style=\"stroke: #000000; stroke-width: 0.8\"/>\n      </g>\n     </g>\n     <g id=\"text_25\">\n      <!-- 10 -->\n      <g transform=\"translate(311.563636 109.341776) scale(0.1 -0.1)\">\n       <use xlink:href=\"#DejaVuSans-31\"/>\n       <use xlink:href=\"#DejaVuSans-30\" x=\"63.623047\"/>\n      </g>\n     </g>\n    </g>\n    <g id=\"ytick_11\">\n     <g id=\"line2d_25\">\n      <g>\n       <use xlink:href=\"#meebd56f688\" x=\"331.288636\" y=\"145.173239\" style=\"stroke: #000000; stroke-width: 0.8\"/>\n      </g>\n     </g>\n     <g id=\"text_26\">\n      <!-- 15 -->\n      <g transform=\"translate(311.563636 148.972457) scale(0.1 -0.1)\">\n       <use xlink:href=\"#DejaVuSans-31\"/>\n       <use xlink:href=\"#DejaVuSans-35\" x=\"63.623047\"/>\n      </g>\n     </g>\n    </g>\n    <g id=\"ytick_12\">\n     <g id=\"line2d_26\">\n      <g>\n       <use xlink:href=\"#meebd56f688\" x=\"331.288636\" y=\"184.80392\" style=\"stroke: #000000; stroke-width: 0.8\"/>\n      </g>\n     </g>\n     <g id=\"text_27\">\n      <!-- 20 -->\n      <g transform=\"translate(311.563636 188.603139) scale(0.1 -0.1)\">\n       <use xlink:href=\"#DejaVuSans-32\"/>\n       <use xlink:href=\"#DejaVuSans-30\" x=\"63.623047\"/>\n      </g>\n     </g>\n    </g>\n    <g id=\"ytick_13\">\n     <g id=\"line2d_27\">\n      <g>\n       <use xlink:href=\"#meebd56f688\" x=\"331.288636\" y=\"224.434602\" style=\"stroke: #000000; stroke-width: 0.8\"/>\n      </g>\n     </g>\n     <g id=\"text_28\">\n      <!-- 25 -->\n      <g transform=\"translate(311.563636 228.233821) scale(0.1 -0.1)\">\n       <use xlink:href=\"#DejaVuSans-32\"/>\n       <use xlink:href=\"#DejaVuSans-35\" x=\"63.623047\"/>\n      </g>\n     </g>\n    </g>\n    <g id=\"ytick_14\">\n     <g id=\"line2d_28\">\n      <g>\n       <use xlink:href=\"#meebd56f688\" x=\"331.288636\" y=\"264.065284\" style=\"stroke: #000000; stroke-width: 0.8\"/>\n      </g>\n     </g>\n     <g id=\"text_29\">\n      <!-- 30 -->\n      <g transform=\"translate(311.563636 267.864503) scale(0.1 -0.1)\">\n       <use xlink:href=\"#DejaVuSans-33\"/>\n       <use xlink:href=\"#DejaVuSans-30\" x=\"63.623047\"/>\n      </g>\n     </g>\n    </g>\n   </g>\n   <g id=\"patch_8\">\n    <path d=\"M 331.288636 275.954489 \nL 331.288636 22.318125 \n\" style=\"fill: none; stroke: #000000; stroke-width: 0.8; stroke-linejoin: miter; stroke-linecap: square\"/>\n   </g>\n   <g id=\"patch_9\">\n    <path d=\"M 584.925 275.954489 \nL 584.925 22.318125 \n\" style=\"fill: none; stroke: #000000; stroke-width: 0.8; stroke-linejoin: miter; stroke-linecap: square\"/>\n   </g>\n   <g id=\"patch_10\">\n    <path d=\"M 331.288636 275.954489 \nL 584.925 275.954489 \n\" style=\"fill: none; stroke: #000000; stroke-width: 0.8; stroke-linejoin: miter; stroke-linecap: square\"/>\n   </g>\n   <g id=\"patch_11\">\n    <path d=\"M 331.288636 22.318125 \nL 584.925 22.318125 \n\" style=\"fill: none; stroke: #000000; stroke-width: 0.8; stroke-linejoin: miter; stroke-linecap: square\"/>\n   </g>\n   <g id=\"text_30\">\n    <!-- Reconstructed Image -->\n    <g transform=\"translate(394.144943 16.318125) scale(0.12 -0.12)\">\n     <defs>\n      <path id=\"DejaVuSans-52\" d=\"M 2841 2188 \nQ 3044 2119 3236 1894 \nQ 3428 1669 3622 1275 \nL 4263 0 \nL 3584 0 \nL 2988 1197 \nQ 2756 1666 2539 1819 \nQ 2322 1972 1947 1972 \nL 1259 1972 \nL 1259 0 \nL 628 0 \nL 628 4666 \nL 2053 4666 \nQ 2853 4666 3247 4331 \nQ 3641 3997 3641 3322 \nQ 3641 2881 3436 2590 \nQ 3231 2300 2841 2188 \nz\nM 1259 4147 \nL 1259 2491 \nL 2053 2491 \nQ 2509 2491 2742 2702 \nQ 2975 2913 2975 3322 \nQ 2975 3731 2742 3939 \nQ 2509 4147 2053 4147 \nL 1259 4147 \nz\n\" transform=\"scale(0.015625)\"/>\n      <path id=\"DejaVuSans-63\" d=\"M 3122 3366 \nL 3122 2828 \nQ 2878 2963 2633 3030 \nQ 2388 3097 2138 3097 \nQ 1578 3097 1268 2742 \nQ 959 2388 959 1747 \nQ 959 1106 1268 751 \nQ 1578 397 2138 397 \nQ 2388 397 2633 464 \nQ 2878 531 3122 666 \nL 3122 134 \nQ 2881 22 2623 -34 \nQ 2366 -91 2075 -91 \nQ 1284 -91 818 406 \nQ 353 903 353 1747 \nQ 353 2603 823 3093 \nQ 1294 3584 2113 3584 \nQ 2378 3584 2631 3529 \nQ 2884 3475 3122 3366 \nz\n\" transform=\"scale(0.015625)\"/>\n      <path id=\"DejaVuSans-6f\" d=\"M 1959 3097 \nQ 1497 3097 1228 2736 \nQ 959 2375 959 1747 \nQ 959 1119 1226 758 \nQ 1494 397 1959 397 \nQ 2419 397 2687 759 \nQ 2956 1122 2956 1747 \nQ 2956 2369 2687 2733 \nQ 2419 3097 1959 3097 \nz\nM 1959 3584 \nQ 2709 3584 3137 3096 \nQ 3566 2609 3566 1747 \nQ 3566 888 3137 398 \nQ 2709 -91 1959 -91 \nQ 1206 -91 779 398 \nQ 353 888 353 1747 \nQ 353 2609 779 3096 \nQ 1206 3584 1959 3584 \nz\n\" transform=\"scale(0.015625)\"/>\n      <path id=\"DejaVuSans-73\" d=\"M 2834 3397 \nL 2834 2853 \nQ 2591 2978 2328 3040 \nQ 2066 3103 1784 3103 \nQ 1356 3103 1142 2972 \nQ 928 2841 928 2578 \nQ 928 2378 1081 2264 \nQ 1234 2150 1697 2047 \nL 1894 2003 \nQ 2506 1872 2764 1633 \nQ 3022 1394 3022 966 \nQ 3022 478 2636 193 \nQ 2250 -91 1575 -91 \nQ 1294 -91 989 -36 \nQ 684 19 347 128 \nL 347 722 \nQ 666 556 975 473 \nQ 1284 391 1588 391 \nQ 1994 391 2212 530 \nQ 2431 669 2431 922 \nQ 2431 1156 2273 1281 \nQ 2116 1406 1581 1522 \nL 1381 1569 \nQ 847 1681 609 1914 \nQ 372 2147 372 2553 \nQ 372 3047 722 3315 \nQ 1072 3584 1716 3584 \nQ 2034 3584 2315 3537 \nQ 2597 3491 2834 3397 \nz\n\" transform=\"scale(0.015625)\"/>\n      <path id=\"DejaVuSans-74\" d=\"M 1172 4494 \nL 1172 3500 \nL 2356 3500 \nL 2356 3053 \nL 1172 3053 \nL 1172 1153 \nQ 1172 725 1289 603 \nQ 1406 481 1766 481 \nL 2356 481 \nL 2356 0 \nL 1766 0 \nQ 1100 0 847 248 \nQ 594 497 594 1153 \nL 594 3053 \nL 172 3053 \nL 172 3500 \nL 594 3500 \nL 594 4494 \nL 1172 4494 \nz\n\" transform=\"scale(0.015625)\"/>\n      <path id=\"DejaVuSans-75\" d=\"M 544 1381 \nL 544 3500 \nL 1119 3500 \nL 1119 1403 \nQ 1119 906 1312 657 \nQ 1506 409 1894 409 \nQ 2359 409 2629 706 \nQ 2900 1003 2900 1516 \nL 2900 3500 \nL 3475 3500 \nL 3475 0 \nL 2900 0 \nL 2900 538 \nQ 2691 219 2414 64 \nQ 2138 -91 1772 -91 \nQ 1169 -91 856 284 \nQ 544 659 544 1381 \nz\nM 1991 3584 \nL 1991 3584 \nz\n\" transform=\"scale(0.015625)\"/>\n      <path id=\"DejaVuSans-64\" d=\"M 2906 2969 \nL 2906 4863 \nL 3481 4863 \nL 3481 0 \nL 2906 0 \nL 2906 525 \nQ 2725 213 2448 61 \nQ 2172 -91 1784 -91 \nQ 1150 -91 751 415 \nQ 353 922 353 1747 \nQ 353 2572 751 3078 \nQ 1150 3584 1784 3584 \nQ 2172 3584 2448 3432 \nQ 2725 3281 2906 2969 \nz\nM 947 1747 \nQ 947 1113 1208 752 \nQ 1469 391 1925 391 \nQ 2381 391 2643 752 \nQ 2906 1113 2906 1747 \nQ 2906 2381 2643 2742 \nQ 2381 3103 1925 3103 \nQ 1469 3103 1208 2742 \nQ 947 2381 947 1747 \nz\n\" transform=\"scale(0.015625)\"/>\n     </defs>\n     <use xlink:href=\"#DejaVuSans-52\"/>\n     <use xlink:href=\"#DejaVuSans-65\" x=\"64.982422\"/>\n     <use xlink:href=\"#DejaVuSans-63\" x=\"126.505859\"/>\n     <use xlink:href=\"#DejaVuSans-6f\" x=\"181.486328\"/>\n     <use xlink:href=\"#DejaVuSans-6e\" x=\"242.667969\"/>\n     <use xlink:href=\"#DejaVuSans-73\" x=\"306.046875\"/>\n     <use xlink:href=\"#DejaVuSans-74\" x=\"358.146484\"/>\n     <use xlink:href=\"#DejaVuSans-72\" x=\"397.355469\"/>\n     <use xlink:href=\"#DejaVuSans-75\" x=\"438.46875\"/>\n     <use xlink:href=\"#DejaVuSans-63\" x=\"501.847656\"/>\n     <use xlink:href=\"#DejaVuSans-74\" x=\"556.828125\"/>\n     <use xlink:href=\"#DejaVuSans-65\" x=\"596.037109\"/>\n     <use xlink:href=\"#DejaVuSans-64\" x=\"657.560547\"/>\n     <use xlink:href=\"#DejaVuSans-20\" x=\"721.037109\"/>\n     <use xlink:href=\"#DejaVuSans-49\" x=\"752.824219\"/>\n     <use xlink:href=\"#DejaVuSans-6d\" x=\"782.316406\"/>\n     <use xlink:href=\"#DejaVuSans-61\" x=\"879.728516\"/>\n     <use xlink:href=\"#DejaVuSans-67\" x=\"941.007812\"/>\n     <use xlink:href=\"#DejaVuSans-65\" x=\"1004.484375\"/>\n    </g>\n   </g>\n  </g>\n </g>\n <defs>\n  <clipPath id=\"p58f8c91610\">\n   <rect x=\"26.925\" y=\"22.318125\" width=\"253.636364\" height=\"253.636364\"/>\n  </clipPath>\n  <clipPath id=\"pf7b589f26a\">\n   <rect x=\"331.288636\" y=\"22.318125\" width=\"253.636364\" height=\"253.636364\"/>\n  </clipPath>\n </defs>\n</svg>\n"
          },
          "metadata": {}
        }
      ]
    }
  ]
}